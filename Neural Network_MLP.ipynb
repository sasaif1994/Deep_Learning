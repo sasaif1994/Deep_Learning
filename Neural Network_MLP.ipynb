{
 "cells": [
  {
   "cell_type": "markdown",
   "id": "07e04319",
   "metadata": {},
   "source": [
    "## <center>IMAGE DATA"
   ]
  },
  {
   "cell_type": "code",
   "execution_count": 1,
   "id": "d7bafe17",
   "metadata": {},
   "outputs": [],
   "source": [
    "import os \n",
    "import pandas as pd\n",
    "import numpy as np\n",
    "import seaborn as sns\n",
    "import tensorflow as tf\n",
    "import keras\n",
    "import matplotlib.pyplot as plt"
   ]
  },
  {
   "cell_type": "code",
   "execution_count": 2,
   "id": "5227d57f",
   "metadata": {},
   "outputs": [
    {
     "data": {
      "text/plain": [
       "'2.6.0'"
      ]
     },
     "execution_count": 2,
     "metadata": {},
     "output_type": "execute_result"
    }
   ],
   "source": [
    "tf.__version__"
   ]
  },
  {
   "cell_type": "code",
   "execution_count": 3,
   "id": "25d791bc",
   "metadata": {},
   "outputs": [
    {
     "data": {
      "text/plain": [
       "'2.6.0'"
      ]
     },
     "execution_count": 3,
     "metadata": {},
     "output_type": "execute_result"
    }
   ],
   "source": [
    "keras.__version__"
   ]
  },
  {
   "cell_type": "code",
   "execution_count": 4,
   "id": "28708b32",
   "metadata": {},
   "outputs": [
    {
     "data": {
      "text/html": [
       "<div>\n",
       "<style scoped>\n",
       "    .dataframe tbody tr th:only-of-type {\n",
       "        vertical-align: middle;\n",
       "    }\n",
       "\n",
       "    .dataframe tbody tr th {\n",
       "        vertical-align: top;\n",
       "    }\n",
       "\n",
       "    .dataframe thead th {\n",
       "        text-align: right;\n",
       "    }\n",
       "</style>\n",
       "<table border=\"1\" class=\"dataframe\">\n",
       "  <thead>\n",
       "    <tr style=\"text-align: right;\">\n",
       "      <th></th>\n",
       "      <th>label</th>\n",
       "      <th>pixel0</th>\n",
       "      <th>pixel1</th>\n",
       "      <th>pixel2</th>\n",
       "      <th>pixel3</th>\n",
       "      <th>pixel4</th>\n",
       "      <th>pixel5</th>\n",
       "      <th>pixel6</th>\n",
       "      <th>pixel7</th>\n",
       "      <th>pixel8</th>\n",
       "      <th>...</th>\n",
       "      <th>pixel774</th>\n",
       "      <th>pixel775</th>\n",
       "      <th>pixel776</th>\n",
       "      <th>pixel777</th>\n",
       "      <th>pixel778</th>\n",
       "      <th>pixel779</th>\n",
       "      <th>pixel780</th>\n",
       "      <th>pixel781</th>\n",
       "      <th>pixel782</th>\n",
       "      <th>pixel783</th>\n",
       "    </tr>\n",
       "  </thead>\n",
       "  <tbody>\n",
       "    <tr>\n",
       "      <th>0</th>\n",
       "      <td>1</td>\n",
       "      <td>0</td>\n",
       "      <td>0</td>\n",
       "      <td>0</td>\n",
       "      <td>0</td>\n",
       "      <td>0</td>\n",
       "      <td>0</td>\n",
       "      <td>0</td>\n",
       "      <td>0</td>\n",
       "      <td>0</td>\n",
       "      <td>...</td>\n",
       "      <td>0</td>\n",
       "      <td>0</td>\n",
       "      <td>0</td>\n",
       "      <td>0</td>\n",
       "      <td>0</td>\n",
       "      <td>0</td>\n",
       "      <td>0</td>\n",
       "      <td>0</td>\n",
       "      <td>0</td>\n",
       "      <td>0</td>\n",
       "    </tr>\n",
       "    <tr>\n",
       "      <th>1</th>\n",
       "      <td>0</td>\n",
       "      <td>0</td>\n",
       "      <td>0</td>\n",
       "      <td>0</td>\n",
       "      <td>0</td>\n",
       "      <td>0</td>\n",
       "      <td>0</td>\n",
       "      <td>0</td>\n",
       "      <td>0</td>\n",
       "      <td>0</td>\n",
       "      <td>...</td>\n",
       "      <td>0</td>\n",
       "      <td>0</td>\n",
       "      <td>0</td>\n",
       "      <td>0</td>\n",
       "      <td>0</td>\n",
       "      <td>0</td>\n",
       "      <td>0</td>\n",
       "      <td>0</td>\n",
       "      <td>0</td>\n",
       "      <td>0</td>\n",
       "    </tr>\n",
       "    <tr>\n",
       "      <th>2</th>\n",
       "      <td>1</td>\n",
       "      <td>0</td>\n",
       "      <td>0</td>\n",
       "      <td>0</td>\n",
       "      <td>0</td>\n",
       "      <td>0</td>\n",
       "      <td>0</td>\n",
       "      <td>0</td>\n",
       "      <td>0</td>\n",
       "      <td>0</td>\n",
       "      <td>...</td>\n",
       "      <td>0</td>\n",
       "      <td>0</td>\n",
       "      <td>0</td>\n",
       "      <td>0</td>\n",
       "      <td>0</td>\n",
       "      <td>0</td>\n",
       "      <td>0</td>\n",
       "      <td>0</td>\n",
       "      <td>0</td>\n",
       "      <td>0</td>\n",
       "    </tr>\n",
       "    <tr>\n",
       "      <th>3</th>\n",
       "      <td>4</td>\n",
       "      <td>0</td>\n",
       "      <td>0</td>\n",
       "      <td>0</td>\n",
       "      <td>0</td>\n",
       "      <td>0</td>\n",
       "      <td>0</td>\n",
       "      <td>0</td>\n",
       "      <td>0</td>\n",
       "      <td>0</td>\n",
       "      <td>...</td>\n",
       "      <td>0</td>\n",
       "      <td>0</td>\n",
       "      <td>0</td>\n",
       "      <td>0</td>\n",
       "      <td>0</td>\n",
       "      <td>0</td>\n",
       "      <td>0</td>\n",
       "      <td>0</td>\n",
       "      <td>0</td>\n",
       "      <td>0</td>\n",
       "    </tr>\n",
       "    <tr>\n",
       "      <th>4</th>\n",
       "      <td>0</td>\n",
       "      <td>0</td>\n",
       "      <td>0</td>\n",
       "      <td>0</td>\n",
       "      <td>0</td>\n",
       "      <td>0</td>\n",
       "      <td>0</td>\n",
       "      <td>0</td>\n",
       "      <td>0</td>\n",
       "      <td>0</td>\n",
       "      <td>...</td>\n",
       "      <td>0</td>\n",
       "      <td>0</td>\n",
       "      <td>0</td>\n",
       "      <td>0</td>\n",
       "      <td>0</td>\n",
       "      <td>0</td>\n",
       "      <td>0</td>\n",
       "      <td>0</td>\n",
       "      <td>0</td>\n",
       "      <td>0</td>\n",
       "    </tr>\n",
       "  </tbody>\n",
       "</table>\n",
       "<p>5 rows × 785 columns</p>\n",
       "</div>"
      ],
      "text/plain": [
       "   label  pixel0  pixel1  pixel2  pixel3  pixel4  pixel5  pixel6  pixel7  \\\n",
       "0      1       0       0       0       0       0       0       0       0   \n",
       "1      0       0       0       0       0       0       0       0       0   \n",
       "2      1       0       0       0       0       0       0       0       0   \n",
       "3      4       0       0       0       0       0       0       0       0   \n",
       "4      0       0       0       0       0       0       0       0       0   \n",
       "\n",
       "   pixel8  ...  pixel774  pixel775  pixel776  pixel777  pixel778  pixel779  \\\n",
       "0       0  ...         0         0         0         0         0         0   \n",
       "1       0  ...         0         0         0         0         0         0   \n",
       "2       0  ...         0         0         0         0         0         0   \n",
       "3       0  ...         0         0         0         0         0         0   \n",
       "4       0  ...         0         0         0         0         0         0   \n",
       "\n",
       "   pixel780  pixel781  pixel782  pixel783  \n",
       "0         0         0         0         0  \n",
       "1         0         0         0         0  \n",
       "2         0         0         0         0  \n",
       "3         0         0         0         0  \n",
       "4         0         0         0         0  \n",
       "\n",
       "[5 rows x 785 columns]"
      ]
     },
     "execution_count": 4,
     "metadata": {},
     "output_type": "execute_result"
    }
   ],
   "source": [
    "os.chdir(r\"D:\\Imarticus\\Time Series And Deep Learning\\Neural Network\\Datashared by sir\")\n",
    "mnist=pd.read_csv(\"MNIST_Train .csv\")\n",
    "mnist.head()"
   ]
  },
  {
   "cell_type": "markdown",
   "id": "193b735b",
   "metadata": {},
   "source": [
    "### Note:-Maximum pixel value can be 255"
   ]
  },
  {
   "cell_type": "code",
   "execution_count": 5,
   "id": "1718a984",
   "metadata": {},
   "outputs": [],
   "source": [
    "## plotting "
   ]
  },
  {
   "cell_type": "code",
   "execution_count": 6,
   "id": "ed65c8f7",
   "metadata": {},
   "outputs": [],
   "source": [
    "abcd=mnist.iloc[9,1:] # 1st row and all the columns (pixels for the 1st row)"
   ]
  },
  {
   "cell_type": "code",
   "execution_count": 7,
   "id": "06e3d947",
   "metadata": {},
   "outputs": [
    {
     "data": {
      "text/plain": [
       "pixel0      0\n",
       "pixel1      0\n",
       "pixel2      0\n",
       "pixel3      0\n",
       "pixel4      0\n",
       "           ..\n",
       "pixel779    0\n",
       "pixel780    0\n",
       "pixel781    0\n",
       "pixel782    0\n",
       "pixel783    0\n",
       "Name: 9, Length: 784, dtype: int64"
      ]
     },
     "execution_count": 7,
     "metadata": {},
     "output_type": "execute_result"
    }
   ],
   "source": [
    "abcd"
   ]
  },
  {
   "cell_type": "code",
   "execution_count": 8,
   "id": "d43cd08a",
   "metadata": {},
   "outputs": [],
   "source": [
    "abcd=np.array(abcd)"
   ]
  },
  {
   "cell_type": "code",
   "execution_count": 9,
   "id": "84593974",
   "metadata": {},
   "outputs": [],
   "source": [
    "abcd=abcd.reshape(28,28)"
   ]
  },
  {
   "cell_type": "code",
   "execution_count": 10,
   "id": "dd22f27e",
   "metadata": {},
   "outputs": [
    {
     "data": {
      "text/plain": [
       "<matplotlib.image.AxesImage at 0x216b52ae880>"
      ]
     },
     "execution_count": 10,
     "metadata": {},
     "output_type": "execute_result"
    },
    {
     "data": {
      "image/png": "[encoded data removed]",
      "text/plain": [
       "<Figure size 432x288 with 1 Axes>"
      ]
     },
     "metadata": {
      "needs_background": "light"
     },
     "output_type": "display_data"
    }
   ],
   "source": [
    "plt.imshow(abcd)"
   ]
  },
  {
   "cell_type": "code",
   "execution_count": 11,
   "id": "07bd86d9",
   "metadata": {},
   "outputs": [
    {
     "data": {
      "image/png": "[encoded data removed]",
      "text/plain": [
       "<Figure size 432x288 with 24 Axes>"
      ]
     },
     "metadata": {
      "needs_background": "light"
     },
     "output_type": "display_data"
    }
   ],
   "source": [
    "mnist1 = mnist.iloc[:,1:786]\n",
    "mnist1=np.array(mnist1)\n",
    "for i in range(24):\n",
    "    plt.subplot(3,8,i+1)\n",
    "    plt.imshow(mnist1[i,:].reshape(28,28))\n",
    "    plt.axis('off')"
   ]
  },
  {
   "cell_type": "markdown",
   "id": "27c3cf80",
   "metadata": {},
   "source": [
    "## Neural Network "
   ]
  },
  {
   "cell_type": "code",
   "execution_count": 12,
   "id": "107ddf98",
   "metadata": {},
   "outputs": [
    {
     "data": {
      "text/plain": [
       "(42000, 785)"
      ]
     },
     "execution_count": 12,
     "metadata": {},
     "output_type": "execute_result"
    }
   ],
   "source": [
    "mnist=pd.read_csv(\"MNIST_Train .csv\")\n",
    "mnist.shape"
   ]
  },
  {
   "cell_type": "code",
   "execution_count": 13,
   "id": "edf89d19",
   "metadata": {},
   "outputs": [],
   "source": [
    "mnist_x=mnist.iloc[:,1:786] # Taking all columns except labels\n",
    "\n",
    "mnist_y=mnist.iloc[:,0] # Taking Label column here"
   ]
  },
  {
   "cell_type": "code",
   "execution_count": 14,
   "id": "f4bd1b13",
   "metadata": {},
   "outputs": [],
   "source": [
    "from sklearn.model_selection import train_test_split\n",
    "mnist_x_train,mnist_x_test,mnist_y_train,mnist_y_test= train_test_split(mnist_x,mnist_y,test_size=.2)"
   ]
  },
  {
   "cell_type": "code",
   "execution_count": 15,
   "id": "dcb876a9",
   "metadata": {},
   "outputs": [
    {
     "data": {
      "text/plain": [
       "((33600, 784), (8400, 784), (33600,), (8400,))"
      ]
     },
     "execution_count": 15,
     "metadata": {},
     "output_type": "execute_result"
    }
   ],
   "source": [
    "mnist_x_train.shape,mnist_x_test.shape,mnist_y_train.shape,mnist_y_test.shape"
   ]
  },
  {
   "cell_type": "code",
   "execution_count": 16,
   "id": "54b3f0b1",
   "metadata": {},
   "outputs": [],
   "source": [
    "mnist_x_train=tf.keras.utils.normalize(mnist_x_train)\n",
    "mnist_x_test=tf.keras.utils.normalize(mnist_x_test)"
   ]
  },
  {
   "cell_type": "markdown",
   "id": "630035f5",
   "metadata": {},
   "source": [
    "#### Note:- It is not compulsory or mandatory to normalize but advisable"
   ]
  },
  {
   "cell_type": "code",
   "execution_count": 17,
   "id": "63b00d1f",
   "metadata": {},
   "outputs": [],
   "source": [
    "model=tf.keras.models.Sequential()  # Initialize the model\n",
    "model.add(tf.keras.layers.Dense(128,activation=tf.nn.relu)) ## 1st layers\n",
    "model.add(tf.keras.layers.Dense(128,activation=tf.nn.relu)) ## 2nd layers\n",
    "model.add(tf.keras.layers.Dense(128,activation=tf.nn.relu)) ## 3rd layers\n",
    "model.add(tf.keras.layers.Dense(10,activation=tf.nn.softmax)) ## last layers\n",
    "model.compile(optimizer='adam',loss='sparse_categorical_crossentropy',metrics=['accuracy'])"
   ]
  },
  {
   "cell_type": "code",
   "execution_count": 18,
   "id": "e79a3985",
   "metadata": {},
   "outputs": [],
   "source": [
    "mnist_y_train=np.array(mnist_y_train)"
   ]
  },
  {
   "cell_type": "code",
   "execution_count": 19,
   "id": "094c32a5",
   "metadata": {},
   "outputs": [
    {
     "name": "stdout",
     "output_type": "stream",
     "text": [
      "Epoch 1/40\n",
      "269/269 [==============================] - 2s 4ms/step - loss: 0.6139 - accuracy: 0.8201 - val_loss: 0.2819 - val_accuracy: 0.9156\n",
      "Epoch 2/40\n",
      "269/269 [==============================] - 1s 3ms/step - loss: 0.2418 - accuracy: 0.9267 - val_loss: 0.2225 - val_accuracy: 0.9320\n",
      "Epoch 3/40\n",
      "269/269 [==============================] - 1s 3ms/step - loss: 0.1772 - accuracy: 0.9467 - val_loss: 0.1724 - val_accuracy: 0.9482\n",
      "Epoch 4/40\n",
      "269/269 [==============================] - 1s 3ms/step - loss: 0.1369 - accuracy: 0.9585 - val_loss: 0.1555 - val_accuracy: 0.9545\n",
      "Epoch 5/40\n",
      "269/269 [==============================] - 1s 3ms/step - loss: 0.1111 - accuracy: 0.9660 - val_loss: 0.1404 - val_accuracy: 0.9583\n",
      "Epoch 6/40\n",
      "269/269 [==============================] - 1s 3ms/step - loss: 0.0913 - accuracy: 0.9718 - val_loss: 0.1341 - val_accuracy: 0.9598\n",
      "Epoch 7/40\n",
      "269/269 [==============================] - 1s 3ms/step - loss: 0.0750 - accuracy: 0.9756 - val_loss: 0.1349 - val_accuracy: 0.9592\n",
      "Epoch 8/40\n",
      "269/269 [==============================] - 1s 3ms/step - loss: 0.0626 - accuracy: 0.9805 - val_loss: 0.1243 - val_accuracy: 0.9652\n",
      "Epoch 9/40\n",
      "269/269 [==============================] - 1s 3ms/step - loss: 0.0514 - accuracy: 0.9843 - val_loss: 0.1203 - val_accuracy: 0.9680\n",
      "Epoch 10/40\n",
      "269/269 [==============================] - 1s 3ms/step - loss: 0.0407 - accuracy: 0.9876 - val_loss: 0.1243 - val_accuracy: 0.9664\n",
      "Epoch 11/40\n",
      "269/269 [==============================] - 1s 3ms/step - loss: 0.0344 - accuracy: 0.9890 - val_loss: 0.1200 - val_accuracy: 0.9664\n",
      "Epoch 12/40\n",
      "269/269 [==============================] - 1s 3ms/step - loss: 0.0272 - accuracy: 0.9914 - val_loss: 0.1416 - val_accuracy: 0.9632\n",
      "Epoch 13/40\n",
      "269/269 [==============================] - 1s 3ms/step - loss: 0.0232 - accuracy: 0.9930 - val_loss: 0.1342 - val_accuracy: 0.9665\n",
      "Epoch 14/40\n",
      "269/269 [==============================] - 1s 3ms/step - loss: 0.0183 - accuracy: 0.9946 - val_loss: 0.1374 - val_accuracy: 0.9676\n",
      "Epoch 15/40\n",
      "269/269 [==============================] - 1s 3ms/step - loss: 0.0150 - accuracy: 0.9955 - val_loss: 0.1288 - val_accuracy: 0.9701\n",
      "Epoch 16/40\n",
      "269/269 [==============================] - 1s 3ms/step - loss: 0.0127 - accuracy: 0.9966 - val_loss: 0.1424 - val_accuracy: 0.9683\n",
      "Epoch 17/40\n",
      "269/269 [==============================] - 1s 3ms/step - loss: 0.0134 - accuracy: 0.9955 - val_loss: 0.1677 - val_accuracy: 0.9634\n",
      "Epoch 18/40\n",
      "269/269 [==============================] - 1s 3ms/step - loss: 0.0078 - accuracy: 0.9980 - val_loss: 0.1548 - val_accuracy: 0.9689\n",
      "Epoch 19/40\n",
      "269/269 [==============================] - 1s 3ms/step - loss: 0.0098 - accuracy: 0.9967 - val_loss: 0.1604 - val_accuracy: 0.9655\n",
      "Epoch 20/40\n",
      "269/269 [==============================] - 1s 3ms/step - loss: 0.0106 - accuracy: 0.9966 - val_loss: 0.1621 - val_accuracy: 0.9685\n",
      "Epoch 21/40\n",
      "269/269 [==============================] - 1s 3ms/step - loss: 0.0111 - accuracy: 0.9963 - val_loss: 0.1779 - val_accuracy: 0.9658\n",
      "Epoch 22/40\n",
      "269/269 [==============================] - 1s 3ms/step - loss: 0.0081 - accuracy: 0.9971 - val_loss: 0.1592 - val_accuracy: 0.9720\n",
      "Epoch 23/40\n",
      "269/269 [==============================] - 1s 3ms/step - loss: 0.0071 - accuracy: 0.9977 - val_loss: 0.1779 - val_accuracy: 0.9662\n",
      "Epoch 24/40\n",
      "269/269 [==============================] - 1s 3ms/step - loss: 0.0099 - accuracy: 0.9962 - val_loss: 0.1659 - val_accuracy: 0.9696\n",
      "Epoch 25/40\n",
      "269/269 [==============================] - 1s 3ms/step - loss: 0.0096 - accuracy: 0.9970 - val_loss: 0.1973 - val_accuracy: 0.9658\n",
      "Epoch 26/40\n",
      "269/269 [==============================] - 1s 3ms/step - loss: 0.0036 - accuracy: 0.9990 - val_loss: 0.1546 - val_accuracy: 0.9731\n",
      "Epoch 27/40\n",
      "269/269 [==============================] - 1s 3ms/step - loss: 0.0022 - accuracy: 0.9994 - val_loss: 0.1648 - val_accuracy: 0.9707\n",
      "Epoch 28/40\n",
      "269/269 [==============================] - 1s 3ms/step - loss: 5.5967e-04 - accuracy: 1.0000 - val_loss: 0.1593 - val_accuracy: 0.9728\n",
      "Epoch 29/40\n",
      "269/269 [==============================] - 1s 3ms/step - loss: 2.1818e-04 - accuracy: 1.0000 - val_loss: 0.1605 - val_accuracy: 0.9732\n",
      "Epoch 30/40\n",
      "269/269 [==============================] - 1s 3ms/step - loss: 1.5612e-04 - accuracy: 1.0000 - val_loss: 0.1646 - val_accuracy: 0.9725\n",
      "Epoch 31/40\n",
      "269/269 [==============================] - 1s 3ms/step - loss: 1.1100e-04 - accuracy: 1.0000 - val_loss: 0.1670 - val_accuracy: 0.9722\n",
      "Epoch 32/40\n",
      "269/269 [==============================] - 1s 3ms/step - loss: 9.6186e-05 - accuracy: 1.0000 - val_loss: 0.1692 - val_accuracy: 0.9723\n",
      "Epoch 33/40\n",
      "269/269 [==============================] - 1s 3ms/step - loss: 8.5868e-05 - accuracy: 1.0000 - val_loss: 0.1710 - val_accuracy: 0.9728\n",
      "Epoch 34/40\n",
      "269/269 [==============================] - 1s 3ms/step - loss: 7.2545e-05 - accuracy: 1.0000 - val_loss: 0.1744 - val_accuracy: 0.9720\n",
      "Epoch 35/40\n",
      "269/269 [==============================] - 1s 3ms/step - loss: 6.5995e-05 - accuracy: 1.0000 - val_loss: 0.1751 - val_accuracy: 0.9723\n",
      "Epoch 36/40\n",
      "269/269 [==============================] - 1s 3ms/step - loss: 5.7816e-05 - accuracy: 1.0000 - val_loss: 0.1773 - val_accuracy: 0.9728\n",
      "Epoch 37/40\n",
      "269/269 [==============================] - 1s 3ms/step - loss: 5.1492e-05 - accuracy: 1.0000 - val_loss: 0.1787 - val_accuracy: 0.9722\n",
      "Epoch 38/40\n",
      "269/269 [==============================] - 1s 3ms/step - loss: 4.6446e-05 - accuracy: 1.0000 - val_loss: 0.1803 - val_accuracy: 0.9723\n",
      "Epoch 39/40\n",
      "269/269 [==============================] - 1s 3ms/step - loss: 3.9384e-05 - accuracy: 1.0000 - val_loss: 0.1829 - val_accuracy: 0.9728\n",
      "Epoch 40/40\n",
      "269/269 [==============================] - 1s 3ms/step - loss: 3.5191e-05 - accuracy: 1.0000 - val_loss: 0.1837 - val_accuracy: 0.9726\n"
     ]
    }
   ],
   "source": [
    "model1=model.fit(mnist_x_train,mnist_y_train,epochs=40,validation_split=.2,batch_size=100)"
   ]
  },
  {
   "cell_type": "code",
   "execution_count": 20,
   "id": "9e5dd2b7",
   "metadata": {},
   "outputs": [
    {
     "data": {
      "text/plain": [
       "{'loss': [0.6138761043548584,\n",
       "  0.2417708784341812,\n",
       "  0.17723526060581207,\n",
       "  0.13687580823898315,\n",
       "  0.11107441037893295,\n",
       "  0.09133288264274597,\n",
       "  0.07496604323387146,\n",
       "  0.06259212642908096,\n",
       "  0.051386650651693344,\n",
       "  0.040655702352523804,\n",
       "  0.034360166639089584,\n",
       "  0.027157925069332123,\n",
       "  0.02322450652718544,\n",
       "  0.01834077201783657,\n",
       "  0.01497808936983347,\n",
       "  0.012663026340305805,\n",
       "  0.013385548256337643,\n",
       "  0.007787717971950769,\n",
       "  0.009754215367138386,\n",
       "  0.010603909380733967,\n",
       "  0.011072024703025818,\n",
       "  0.00808971468359232,\n",
       "  0.007059954106807709,\n",
       "  0.009910505264997482,\n",
       "  0.009563607163727283,\n",
       "  0.0036467076279222965,\n",
       "  0.0022284542210400105,\n",
       "  0.000559670093934983,\n",
       "  0.00021817779634147882,\n",
       "  0.00015612086281180382,\n",
       "  0.00011100092524429783,\n",
       "  9.61864207056351e-05,\n",
       "  8.586805779486895e-05,\n",
       "  7.254525553435087e-05,\n",
       "  6.599454354727641e-05,\n",
       "  5.7816345361061394e-05,\n",
       "  5.149188655195758e-05,\n",
       "  4.644639921025373e-05,\n",
       "  3.938421650673263e-05,\n",
       "  3.519052188494243e-05],\n",
       " 'accuracy': [0.8200520873069763,\n",
       "  0.926748514175415,\n",
       "  0.9467262029647827,\n",
       "  0.9585193395614624,\n",
       "  0.9660342335700989,\n",
       "  0.9717633724212646,\n",
       "  0.9756324291229248,\n",
       "  0.98046875,\n",
       "  0.9843378067016602,\n",
       "  0.9875743985176086,\n",
       "  0.9889509081840515,\n",
       "  0.9913690686225891,\n",
       "  0.992968738079071,\n",
       "  0.9946428537368774,\n",
       "  0.9955357313156128,\n",
       "  0.9966145753860474,\n",
       "  0.995498538017273,\n",
       "  0.9979910850524902,\n",
       "  0.996688961982727,\n",
       "  0.9965773820877075,\n",
       "  0.996279776096344,\n",
       "  0.9971354007720947,\n",
       "  0.9976562261581421,\n",
       "  0.9962053298950195,\n",
       "  0.9969866275787354,\n",
       "  0.9989955425262451,\n",
       "  0.9994419813156128,\n",
       "  0.9999628067016602,\n",
       "  1.0,\n",
       "  1.0,\n",
       "  1.0,\n",
       "  1.0,\n",
       "  1.0,\n",
       "  1.0,\n",
       "  1.0,\n",
       "  1.0,\n",
       "  1.0,\n",
       "  1.0,\n",
       "  1.0,\n",
       "  1.0],\n",
       " 'val_loss': [0.281860888004303,\n",
       "  0.22254405915737152,\n",
       "  0.172440305352211,\n",
       "  0.15551245212554932,\n",
       "  0.14035993814468384,\n",
       "  0.1341211199760437,\n",
       "  0.1349441558122635,\n",
       "  0.12433107197284698,\n",
       "  0.12025967240333557,\n",
       "  0.12429630011320114,\n",
       "  0.11995221674442291,\n",
       "  0.14164836704730988,\n",
       "  0.13422013819217682,\n",
       "  0.1373881697654724,\n",
       "  0.12883594632148743,\n",
       "  0.14238910377025604,\n",
       "  0.1676567643880844,\n",
       "  0.154824361205101,\n",
       "  0.16035419702529907,\n",
       "  0.1621084362268448,\n",
       "  0.17786690592765808,\n",
       "  0.1592230498790741,\n",
       "  0.17789027094841003,\n",
       "  0.1659172922372818,\n",
       "  0.19730743765830994,\n",
       "  0.1545775830745697,\n",
       "  0.16484196484088898,\n",
       "  0.1592940390110016,\n",
       "  0.16054803133010864,\n",
       "  0.16459150612354279,\n",
       "  0.1670030802488327,\n",
       "  0.16922089457511902,\n",
       "  0.17104636132717133,\n",
       "  0.1744484156370163,\n",
       "  0.1751207858324051,\n",
       "  0.17729830741882324,\n",
       "  0.17872017621994019,\n",
       "  0.1803283989429474,\n",
       "  0.18292832374572754,\n",
       "  0.18374177813529968],\n",
       " 'val_accuracy': [0.9156249761581421,\n",
       "  0.9319940209388733,\n",
       "  0.9482142925262451,\n",
       "  0.9544642567634583,\n",
       "  0.9583333134651184,\n",
       "  0.9598214030265808,\n",
       "  0.9592261910438538,\n",
       "  0.9651785492897034,\n",
       "  0.9680059552192688,\n",
       "  0.9663690328598022,\n",
       "  0.9663690328598022,\n",
       "  0.9632440209388733,\n",
       "  0.9665178656578064,\n",
       "  0.9675595164299011,\n",
       "  0.9700892567634583,\n",
       "  0.9683035612106323,\n",
       "  0.9633928537368774,\n",
       "  0.9688988327980042,\n",
       "  0.9654762148857117,\n",
       "  0.9684523940086365,\n",
       "  0.9657738208770752,\n",
       "  0.9720237851142883,\n",
       "  0.9662202596664429,\n",
       "  0.9696428775787354,\n",
       "  0.9657738208770752,\n",
       "  0.9730654954910278,\n",
       "  0.9706845283508301,\n",
       "  0.9727678298950195,\n",
       "  0.9732142686843872,\n",
       "  0.972470223903656,\n",
       "  0.9721726179122925,\n",
       "  0.9723214507102966,\n",
       "  0.9727678298950195,\n",
       "  0.9720237851142883,\n",
       "  0.9723214507102966,\n",
       "  0.9727678298950195,\n",
       "  0.9721726179122925,\n",
       "  0.9723214507102966,\n",
       "  0.9727678298950195,\n",
       "  0.9726190567016602]}"
      ]
     },
     "execution_count": 20,
     "metadata": {},
     "output_type": "execute_result"
    }
   ],
   "source": [
    "model1.history"
   ]
  },
  {
   "cell_type": "code",
   "execution_count": 21,
   "id": "5786d754",
   "metadata": {},
   "outputs": [
    {
     "data": {
      "text/plain": [
       "array([[1.05183265e-10, 1.88456427e-17, 9.99988675e-01, ...,\n",
       "        1.12017497e-05, 2.72126523e-11, 7.34730676e-14],\n",
       "       [1.23993080e-26, 4.11871218e-19, 1.20788545e-19, ...,\n",
       "        5.23403832e-20, 1.00000000e+00, 6.10928799e-12],\n",
       "       [1.03000944e-22, 3.28765661e-13, 3.14410943e-15, ...,\n",
       "        5.11447468e-18, 1.00000000e+00, 1.46892732e-16],\n",
       "       ...,\n",
       "       [3.47302010e-32, 6.60541174e-16, 4.70179866e-26, ...,\n",
       "        2.42987441e-24, 7.49422260e-17, 6.30179195e-18],\n",
       "       [3.26539231e-14, 1.94640396e-17, 1.96680303e-05, ...,\n",
       "        9.99980330e-01, 4.11981374e-17, 1.13148048e-15],\n",
       "       [3.95568622e-16, 5.62149580e-06, 1.27342408e-14, ...,\n",
       "        1.12698513e-06, 1.15388774e-08, 1.59863815e-01]], dtype=float32)"
      ]
     },
     "execution_count": 21,
     "metadata": {},
     "output_type": "execute_result"
    }
   ],
   "source": [
    "from sklearn.metrics import confusion_matrix, classification_report\n",
    "\n",
    "predict_x=model.predict(mnist_x_test) # Prediction in probability\n",
    "predict_x"
   ]
  },
  {
   "cell_type": "code",
   "execution_count": 22,
   "id": "a47e8d92",
   "metadata": {},
   "outputs": [
    {
     "data": {
      "text/html": [
       "<div>\n",
       "<style scoped>\n",
       "    .dataframe tbody tr th:only-of-type {\n",
       "        vertical-align: middle;\n",
       "    }\n",
       "\n",
       "    .dataframe tbody tr th {\n",
       "        vertical-align: top;\n",
       "    }\n",
       "\n",
       "    .dataframe thead th {\n",
       "        text-align: right;\n",
       "    }\n",
       "</style>\n",
       "<table border=\"1\" class=\"dataframe\">\n",
       "  <thead>\n",
       "    <tr style=\"text-align: right;\">\n",
       "      <th></th>\n",
       "      <th>loss</th>\n",
       "      <th>accuracy</th>\n",
       "      <th>val_loss</th>\n",
       "      <th>val_accuracy</th>\n",
       "    </tr>\n",
       "  </thead>\n",
       "  <tbody>\n",
       "    <tr>\n",
       "      <th>0</th>\n",
       "      <td>0.613876</td>\n",
       "      <td>0.820052</td>\n",
       "      <td>0.281861</td>\n",
       "      <td>0.915625</td>\n",
       "    </tr>\n",
       "    <tr>\n",
       "      <th>1</th>\n",
       "      <td>0.241771</td>\n",
       "      <td>0.926749</td>\n",
       "      <td>0.222544</td>\n",
       "      <td>0.931994</td>\n",
       "    </tr>\n",
       "    <tr>\n",
       "      <th>2</th>\n",
       "      <td>0.177235</td>\n",
       "      <td>0.946726</td>\n",
       "      <td>0.172440</td>\n",
       "      <td>0.948214</td>\n",
       "    </tr>\n",
       "    <tr>\n",
       "      <th>3</th>\n",
       "      <td>0.136876</td>\n",
       "      <td>0.958519</td>\n",
       "      <td>0.155512</td>\n",
       "      <td>0.954464</td>\n",
       "    </tr>\n",
       "    <tr>\n",
       "      <th>4</th>\n",
       "      <td>0.111074</td>\n",
       "      <td>0.966034</td>\n",
       "      <td>0.140360</td>\n",
       "      <td>0.958333</td>\n",
       "    </tr>\n",
       "    <tr>\n",
       "      <th>5</th>\n",
       "      <td>0.091333</td>\n",
       "      <td>0.971763</td>\n",
       "      <td>0.134121</td>\n",
       "      <td>0.959821</td>\n",
       "    </tr>\n",
       "    <tr>\n",
       "      <th>6</th>\n",
       "      <td>0.074966</td>\n",
       "      <td>0.975632</td>\n",
       "      <td>0.134944</td>\n",
       "      <td>0.959226</td>\n",
       "    </tr>\n",
       "    <tr>\n",
       "      <th>7</th>\n",
       "      <td>0.062592</td>\n",
       "      <td>0.980469</td>\n",
       "      <td>0.124331</td>\n",
       "      <td>0.965179</td>\n",
       "    </tr>\n",
       "    <tr>\n",
       "      <th>8</th>\n",
       "      <td>0.051387</td>\n",
       "      <td>0.984338</td>\n",
       "      <td>0.120260</td>\n",
       "      <td>0.968006</td>\n",
       "    </tr>\n",
       "    <tr>\n",
       "      <th>9</th>\n",
       "      <td>0.040656</td>\n",
       "      <td>0.987574</td>\n",
       "      <td>0.124296</td>\n",
       "      <td>0.966369</td>\n",
       "    </tr>\n",
       "    <tr>\n",
       "      <th>10</th>\n",
       "      <td>0.034360</td>\n",
       "      <td>0.988951</td>\n",
       "      <td>0.119952</td>\n",
       "      <td>0.966369</td>\n",
       "    </tr>\n",
       "    <tr>\n",
       "      <th>11</th>\n",
       "      <td>0.027158</td>\n",
       "      <td>0.991369</td>\n",
       "      <td>0.141648</td>\n",
       "      <td>0.963244</td>\n",
       "    </tr>\n",
       "    <tr>\n",
       "      <th>12</th>\n",
       "      <td>0.023225</td>\n",
       "      <td>0.992969</td>\n",
       "      <td>0.134220</td>\n",
       "      <td>0.966518</td>\n",
       "    </tr>\n",
       "    <tr>\n",
       "      <th>13</th>\n",
       "      <td>0.018341</td>\n",
       "      <td>0.994643</td>\n",
       "      <td>0.137388</td>\n",
       "      <td>0.967560</td>\n",
       "    </tr>\n",
       "    <tr>\n",
       "      <th>14</th>\n",
       "      <td>0.014978</td>\n",
       "      <td>0.995536</td>\n",
       "      <td>0.128836</td>\n",
       "      <td>0.970089</td>\n",
       "    </tr>\n",
       "    <tr>\n",
       "      <th>15</th>\n",
       "      <td>0.012663</td>\n",
       "      <td>0.996615</td>\n",
       "      <td>0.142389</td>\n",
       "      <td>0.968304</td>\n",
       "    </tr>\n",
       "    <tr>\n",
       "      <th>16</th>\n",
       "      <td>0.013386</td>\n",
       "      <td>0.995499</td>\n",
       "      <td>0.167657</td>\n",
       "      <td>0.963393</td>\n",
       "    </tr>\n",
       "    <tr>\n",
       "      <th>17</th>\n",
       "      <td>0.007788</td>\n",
       "      <td>0.997991</td>\n",
       "      <td>0.154824</td>\n",
       "      <td>0.968899</td>\n",
       "    </tr>\n",
       "    <tr>\n",
       "      <th>18</th>\n",
       "      <td>0.009754</td>\n",
       "      <td>0.996689</td>\n",
       "      <td>0.160354</td>\n",
       "      <td>0.965476</td>\n",
       "    </tr>\n",
       "    <tr>\n",
       "      <th>19</th>\n",
       "      <td>0.010604</td>\n",
       "      <td>0.996577</td>\n",
       "      <td>0.162108</td>\n",
       "      <td>0.968452</td>\n",
       "    </tr>\n",
       "    <tr>\n",
       "      <th>20</th>\n",
       "      <td>0.011072</td>\n",
       "      <td>0.996280</td>\n",
       "      <td>0.177867</td>\n",
       "      <td>0.965774</td>\n",
       "    </tr>\n",
       "    <tr>\n",
       "      <th>21</th>\n",
       "      <td>0.008090</td>\n",
       "      <td>0.997135</td>\n",
       "      <td>0.159223</td>\n",
       "      <td>0.972024</td>\n",
       "    </tr>\n",
       "    <tr>\n",
       "      <th>22</th>\n",
       "      <td>0.007060</td>\n",
       "      <td>0.997656</td>\n",
       "      <td>0.177890</td>\n",
       "      <td>0.966220</td>\n",
       "    </tr>\n",
       "    <tr>\n",
       "      <th>23</th>\n",
       "      <td>0.009911</td>\n",
       "      <td>0.996205</td>\n",
       "      <td>0.165917</td>\n",
       "      <td>0.969643</td>\n",
       "    </tr>\n",
       "    <tr>\n",
       "      <th>24</th>\n",
       "      <td>0.009564</td>\n",
       "      <td>0.996987</td>\n",
       "      <td>0.197307</td>\n",
       "      <td>0.965774</td>\n",
       "    </tr>\n",
       "    <tr>\n",
       "      <th>25</th>\n",
       "      <td>0.003647</td>\n",
       "      <td>0.998996</td>\n",
       "      <td>0.154578</td>\n",
       "      <td>0.973065</td>\n",
       "    </tr>\n",
       "    <tr>\n",
       "      <th>26</th>\n",
       "      <td>0.002228</td>\n",
       "      <td>0.999442</td>\n",
       "      <td>0.164842</td>\n",
       "      <td>0.970685</td>\n",
       "    </tr>\n",
       "    <tr>\n",
       "      <th>27</th>\n",
       "      <td>0.000560</td>\n",
       "      <td>0.999963</td>\n",
       "      <td>0.159294</td>\n",
       "      <td>0.972768</td>\n",
       "    </tr>\n",
       "    <tr>\n",
       "      <th>28</th>\n",
       "      <td>0.000218</td>\n",
       "      <td>1.000000</td>\n",
       "      <td>0.160548</td>\n",
       "      <td>0.973214</td>\n",
       "    </tr>\n",
       "    <tr>\n",
       "      <th>29</th>\n",
       "      <td>0.000156</td>\n",
       "      <td>1.000000</td>\n",
       "      <td>0.164592</td>\n",
       "      <td>0.972470</td>\n",
       "    </tr>\n",
       "    <tr>\n",
       "      <th>30</th>\n",
       "      <td>0.000111</td>\n",
       "      <td>1.000000</td>\n",
       "      <td>0.167003</td>\n",
       "      <td>0.972173</td>\n",
       "    </tr>\n",
       "    <tr>\n",
       "      <th>31</th>\n",
       "      <td>0.000096</td>\n",
       "      <td>1.000000</td>\n",
       "      <td>0.169221</td>\n",
       "      <td>0.972321</td>\n",
       "    </tr>\n",
       "    <tr>\n",
       "      <th>32</th>\n",
       "      <td>0.000086</td>\n",
       "      <td>1.000000</td>\n",
       "      <td>0.171046</td>\n",
       "      <td>0.972768</td>\n",
       "    </tr>\n",
       "    <tr>\n",
       "      <th>33</th>\n",
       "      <td>0.000073</td>\n",
       "      <td>1.000000</td>\n",
       "      <td>0.174448</td>\n",
       "      <td>0.972024</td>\n",
       "    </tr>\n",
       "    <tr>\n",
       "      <th>34</th>\n",
       "      <td>0.000066</td>\n",
       "      <td>1.000000</td>\n",
       "      <td>0.175121</td>\n",
       "      <td>0.972321</td>\n",
       "    </tr>\n",
       "    <tr>\n",
       "      <th>35</th>\n",
       "      <td>0.000058</td>\n",
       "      <td>1.000000</td>\n",
       "      <td>0.177298</td>\n",
       "      <td>0.972768</td>\n",
       "    </tr>\n",
       "    <tr>\n",
       "      <th>36</th>\n",
       "      <td>0.000051</td>\n",
       "      <td>1.000000</td>\n",
       "      <td>0.178720</td>\n",
       "      <td>0.972173</td>\n",
       "    </tr>\n",
       "    <tr>\n",
       "      <th>37</th>\n",
       "      <td>0.000046</td>\n",
       "      <td>1.000000</td>\n",
       "      <td>0.180328</td>\n",
       "      <td>0.972321</td>\n",
       "    </tr>\n",
       "    <tr>\n",
       "      <th>38</th>\n",
       "      <td>0.000039</td>\n",
       "      <td>1.000000</td>\n",
       "      <td>0.182928</td>\n",
       "      <td>0.972768</td>\n",
       "    </tr>\n",
       "    <tr>\n",
       "      <th>39</th>\n",
       "      <td>0.000035</td>\n",
       "      <td>1.000000</td>\n",
       "      <td>0.183742</td>\n",
       "      <td>0.972619</td>\n",
       "    </tr>\n",
       "  </tbody>\n",
       "</table>\n",
       "</div>"
      ],
      "text/plain": [
       "        loss  accuracy  val_loss  val_accuracy\n",
       "0   0.613876  0.820052  0.281861      0.915625\n",
       "1   0.241771  0.926749  0.222544      0.931994\n",
       "2   0.177235  0.946726  0.172440      0.948214\n",
       "3   0.136876  0.958519  0.155512      0.954464\n",
       "4   0.111074  0.966034  0.140360      0.958333\n",
       "5   0.091333  0.971763  0.134121      0.959821\n",
       "6   0.074966  0.975632  0.134944      0.959226\n",
       "7   0.062592  0.980469  0.124331      0.965179\n",
       "8   0.051387  0.984338  0.120260      0.968006\n",
       "9   0.040656  0.987574  0.124296      0.966369\n",
       "10  0.034360  0.988951  0.119952      0.966369\n",
       "11  0.027158  0.991369  0.141648      0.963244\n",
       "12  0.023225  0.992969  0.134220      0.966518\n",
       "13  0.018341  0.994643  0.137388      0.967560\n",
       "14  0.014978  0.995536  0.128836      0.970089\n",
       "15  0.012663  0.996615  0.142389      0.968304\n",
       "16  0.013386  0.995499  0.167657      0.963393\n",
       "17  0.007788  0.997991  0.154824      0.968899\n",
       "18  0.009754  0.996689  0.160354      0.965476\n",
       "19  0.010604  0.996577  0.162108      0.968452\n",
       "20  0.011072  0.996280  0.177867      0.965774\n",
       "21  0.008090  0.997135  0.159223      0.972024\n",
       "22  0.007060  0.997656  0.177890      0.966220\n",
       "23  0.009911  0.996205  0.165917      0.969643\n",
       "24  0.009564  0.996987  0.197307      0.965774\n",
       "25  0.003647  0.998996  0.154578      0.973065\n",
       "26  0.002228  0.999442  0.164842      0.970685\n",
       "27  0.000560  0.999963  0.159294      0.972768\n",
       "28  0.000218  1.000000  0.160548      0.973214\n",
       "29  0.000156  1.000000  0.164592      0.972470\n",
       "30  0.000111  1.000000  0.167003      0.972173\n",
       "31  0.000096  1.000000  0.169221      0.972321\n",
       "32  0.000086  1.000000  0.171046      0.972768\n",
       "33  0.000073  1.000000  0.174448      0.972024\n",
       "34  0.000066  1.000000  0.175121      0.972321\n",
       "35  0.000058  1.000000  0.177298      0.972768\n",
       "36  0.000051  1.000000  0.178720      0.972173\n",
       "37  0.000046  1.000000  0.180328      0.972321\n",
       "38  0.000039  1.000000  0.182928      0.972768\n",
       "39  0.000035  1.000000  0.183742      0.972619"
      ]
     },
     "execution_count": 22,
     "metadata": {},
     "output_type": "execute_result"
    }
   ],
   "source": [
    "Model1=pd.DataFrame(model1.history)\n",
    "Model1"
   ]
  },
  {
   "cell_type": "code",
   "execution_count": 27,
   "id": "5d39f437",
   "metadata": {},
   "outputs": [
    {
     "data": {
      "image/png": "[encoded data removed]",
      "text/plain": [
       "<Figure size 576x576 with 1 Axes>"
      ]
     },
     "metadata": {
      "needs_background": "light"
     },
     "output_type": "display_data"
    }
   ],
   "source": [
    "plt.figure(figsize=(8,8))\n",
    "plt.plot(Model1.loss,marker=\"*\",color=\"blue\",label='Loss')\n",
    "plt.plot(Model1.val_loss,marker=\"*\",color=\"red\",label='Val.Loss')\n",
    "plt.xlabel(\"Iteration\",size=20)\n",
    "plt.ylabel(\"Error-Cross Entropy\",size=20)\n",
    "plt.title(\"Cross-Entrop On MNIST\",size=20)\n",
    "plt.legend()\n",
    "plt.grid()\n",
    "plt.show()"
   ]
  },
  {
   "cell_type": "markdown",
   "id": "1e0575e2",
   "metadata": {},
   "source": [
    "#### Fetch the position of the higest probability and use that for confusion matrix using argmax"
   ]
  },
  {
   "cell_type": "code",
   "execution_count": 24,
   "id": "500d13fd",
   "metadata": {},
   "outputs": [
    {
     "data": {
      "text/plain": [
       "array([[821,   0,   3,   0,   0,   2,   2,   0,   2,   1],\n",
       "       [  0, 938,   1,   3,   1,   5,   1,   2,   9,   0],\n",
       "       [  2,   4, 834,   7,   1,   1,   0,   5,   4,   0],\n",
       "       [  0,   1,   3, 846,   0,  11,   0,   1,   4,   2],\n",
       "       [  1,   2,   2,   0, 777,   2,   0,   5,   1,   8],\n",
       "       [  0,   1,   0,   7,   0, 731,   5,   0,   8,   3],\n",
       "       [  1,   1,   3,   0,   5,   4, 801,   0,   2,   0],\n",
       "       [  0,   1,   2,   3,   1,   1,   1, 853,   1,   4],\n",
       "       [  3,   3,   2,   5,   1,   3,   3,   2, 783,   3],\n",
       "       [  1,   0,   2,   4,  12,   5,   0,   7,   3, 804]], dtype=int64)"
      ]
     },
     "execution_count": 24,
     "metadata": {},
     "output_type": "execute_result"
    }
   ],
   "source": [
    "classes_x=np.argmax(predict_x,axis=1) \n",
    "tab=confusion_matrix(classes_x,mnist_y_test)\n",
    "tab"
   ]
  },
  {
   "cell_type": "code",
   "execution_count": 25,
   "id": "89ef8bfa",
   "metadata": {},
   "outputs": [
    {
     "data": {
      "text/plain": [
       "0.9747619047619047"
      ]
     },
     "execution_count": 25,
     "metadata": {},
     "output_type": "execute_result"
    }
   ],
   "source": [
    "tab.diagonal().sum()/tab.sum()  # Accuracy  "
   ]
  },
  {
   "cell_type": "code",
   "execution_count": null,
   "id": "6012450a",
   "metadata": {},
   "outputs": [],
   "source": []
  }
 ],
 "metadata": {
  "kernelspec": {
   "display_name": "Python 3 (ipykernel)",
   "language": "python",
   "name": "python3"
  },
  "language_info": {
   "codemirror_mode": {
    "name": "ipython",
    "version": 3
   },
   "file_extension": ".py",
   "mimetype": "text/x-python",
   "name": "python",
   "nbconvert_exporter": "python",
   "pygments_lexer": "ipython3",
   "version": "3.8.8"
  }
 },
 "nbformat": 4,
 "nbformat_minor": 5
}
