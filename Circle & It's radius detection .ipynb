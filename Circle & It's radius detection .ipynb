{
 "cells": [
  {
   "cell_type": "markdown",
   "id": "08522622",
   "metadata": {},
   "source": [
    "## <center>Circle & It's Radius Detection model on any image"
   ]
  },
  {
   "cell_type": "code",
   "execution_count": 2,
   "id": "64584884",
   "metadata": {},
   "outputs": [
    {
     "name": "stdout",
     "output_type": "stream",
     "text": [
      "c1 2.05 109\n"
     ]
    }
   ],
   "source": [
    "import cv2\n",
    "import sys\n",
    "import cv2 as cv\n",
    "import numpy as np\n",
    "from matplotlib import pyplot as plt\n",
    "\n",
    "\n",
    "def Circle_center_Detection():\n",
    "\n",
    "    img = cv.imread(r\"D:\\Imarticus\\Extra Practice\\Circle.jpg\")\n",
    "    img = cv.resize(img, (700, 400))\n",
    "    output = img.copy()\n",
    "    gray_img = cv.cvtColor(img, cv.COLOR_BGR2GRAY)\n",
    "    blur = cv.medianBlur(gray_img, 5)\n",
    "    circles = cv.HoughCircles(blur, cv.HOUGH_GRADIENT,1, 100, 10, param1=130, param2=55, minRadius=5, maxRadius=0)\n",
    "    detected_circles = np.uint16(np.around(circles))\n",
    "\n",
    "    count=1\n",
    "    for (x, y, r) in detected_circles[0, :]:\n",
    "        cv.circle(output, (x, y), r, (0, 255, 0), 3)\n",
    "        #cv.circle(output, (x, y), 3, (255, 0, 0), 3)\n",
    "#Calculate radius in mm:\n",
    "        r_mm = round(r/53.3, 2)\n",
    "        # Create outer circle\n",
    "        #cv2.circle(output, (x,y), r, (0, 0, 0), 1)\n",
    "# Create center rectangle\n",
    "        cv2.rectangle(output, (x-2, y-2), (x+2, y+2), (0,0,255), -1)\n",
    "# Add radius to center\n",
    "        cv2.putText(output, str(r_mm), \n",
    "                    (x-15, y-5), \n",
    "                    cv2.FONT_HERSHEY_COMPLEX_SMALL, \n",
    "                    0.7, (0, 0, 0), 1)\n",
    "# Print the radius of detected circles in pixels and mm\n",
    "        print ('c' + str(count) + ' ' + str(r_mm) + ' ' + str(r))\n",
    "        count += 1\n",
    "\n",
    "    cv.imshow(\"Original Image\", img)\n",
    "    cv.imshow(\"Output\", output)\n",
    "    cv.waitKey()\n",
    "    cv.destroyAllWindows()\n",
    "\n",
    "\n",
    "Circle_center_Detection()"
   ]
  },
  {
   "cell_type": "code",
   "execution_count": 3,
   "id": "7351b140",
   "metadata": {},
   "outputs": [
    {
     "name": "stdout",
     "output_type": "stream",
     "text": [
      "c1 0.98 52\n",
      "c2 0.99 53\n",
      "c3 0.83 44\n",
      "c4 0.98 52\n",
      "c5 0.96 51\n",
      "c6 1.11 59\n",
      "c7 1.07 57\n",
      "c8 0.99 53\n",
      "c9 0.96 51\n",
      "c10 0.98 52\n",
      "c11 0.86 46\n",
      "c12 1.07 57\n",
      "c13 1.07 57\n",
      "c14 1.07 57\n",
      "c15 0.75 40\n",
      "c16 0.99 53\n",
      "c17 0.94 50\n",
      "c18 0.94 50\n",
      "c19 0.73 39\n",
      "c20 0.98 52\n",
      "c21 0.68 36\n",
      "c22 0.56 30\n",
      "c23 0.49 26\n"
     ]
    }
   ],
   "source": [
    "def Circle_center_Detection():\n",
    "\n",
    "    img = cv.imread(r\"D:\\Imarticus\\Extra Practice\\circular_hough_potw_04.png\")\n",
    "    img = cv.resize(img, (700, 400))\n",
    "    output = img.copy()\n",
    "    #gray_img = cv.cvtColor(img, cv.COLOR_BGR2GRAY)\n",
    "    #blur = cv.medianBlur(gray_img, 5)\n",
    "    #Convert image to Grayscale\n",
    "    gray = cv2.cvtColor(img,cv2.COLOR_BGR2GRAY)\n",
    "#Blur image\n",
    "    gray = cv2.GaussianBlur(gray, (3,3), 0)\n",
    "#Canny edge detection\n",
    "    edges = cv2.Canny(gray, 50, 200)\n",
    "\n",
    "    cv2.imshow('edges', edges)\n",
    "    #circles = cv.HoughCircles(blur, cv.HOUGH_GRADIENT,1, 100, 10, param1=130, param2=55, minRadius=5, maxRadius=0)\n",
    "    \n",
    "    circles = cv2.HoughCircles(image=gray,\n",
    "                            method=cv2.HOUGH_GRADIENT, \n",
    "                            dp=1.1, \n",
    "                            param1=100,\n",
    "                            param2=30, \n",
    "                            minDist=30, \n",
    "                            minRadius=10, \n",
    "                            maxRadius=60)\n",
    "    \n",
    "    detected_circles = np.uint16(np.around(circles))\n",
    "\n",
    "    count=1\n",
    "    for (x, y, r) in detected_circles[0, :]:\n",
    "        cv.circle(output, (x, y), r, (0, 255, 0), 3)\n",
    "        #cv.circle(output, (x, y), 3, (255, 0, 0), 3)\n",
    "        #Calculate radius in mm:\n",
    "        r_mm = round(r/53.3, 2)\n",
    "        # Create outer circle\n",
    "        #cv2.circle(output, (x,y), r, (0, 0, 0), 1)\n",
    "        # Create center rectangle\n",
    "        cv2.rectangle(output, (x-2, y-2), (x+2, y+2), (0,0,255), -1)\n",
    "        # Add radius to center\n",
    "        cv2.putText(output, str(r_mm), \n",
    "                    (x-15, y-5), \n",
    "                    cv2.FONT_HERSHEY_COMPLEX_SMALL, \n",
    "                    0.7, (0, 0, 0), 1)\n",
    "        # Print the radius of detected circles in pixels and mm\n",
    "        print ('c' + str(count) + ' ' + str(r_mm) + ' ' + str(r))\n",
    "        count += 1\n",
    "\n",
    "    cv.imshow(\"Original Image\", img)\n",
    "    cv.imshow(\"Output\", output)\n",
    "    cv.waitKey()\n",
    "    cv.destroyAllWindows()\n",
    "\n",
    "\n",
    "Circle_center_Detection()"
   ]
  },
  {
   "cell_type": "code",
   "execution_count": null,
   "id": "f05eb721",
   "metadata": {},
   "outputs": [],
   "source": []
  }
 ],
 "metadata": {
  "kernelspec": {
   "display_name": "Python 3 (ipykernel)",
   "language": "python",
   "name": "python3"
  },
  "language_info": {
   "codemirror_mode": {
    "name": "ipython",
    "version": 3
   },
   "file_extension": ".py",
   "mimetype": "text/x-python",
   "name": "python",
   "nbconvert_exporter": "python",
   "pygments_lexer": "ipython3",
   "version": "3.9.7"
  }
 },
 "nbformat": 4,
 "nbformat_minor": 5
}
