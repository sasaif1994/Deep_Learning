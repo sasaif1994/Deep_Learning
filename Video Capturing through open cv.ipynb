{
 "cells": [
  {
   "cell_type": "code",
   "execution_count": 12,
   "id": "4bdd911f",
   "metadata": {},
   "outputs": [],
   "source": [
    "import pandas as pd\n",
    "import numpy as np\n",
    "import matplotlib.pyplot as plt\n",
    "import cv2"
   ]
  },
  {
   "cell_type": "code",
   "execution_count": 25,
   "id": "7069d241",
   "metadata": {},
   "outputs": [
    {
     "ename": "KeyboardInterrupt",
     "evalue": "",
     "output_type": "error",
     "traceback": [
      "\u001b[1;31m---------------------------------------------------------------------------\u001b[0m",
      "\u001b[1;31mKeyboardInterrupt\u001b[0m                         Traceback (most recent call last)",
      "\u001b[1;32m~\\AppData\\Local\\Temp/ipykernel_8672/3871647759.py\u001b[0m in \u001b[0;36m<module>\u001b[1;34m\u001b[0m\n\u001b[0;32m     10\u001b[0m     \u001b[0mcv2\u001b[0m\u001b[1;33m.\u001b[0m\u001b[0mimshow\u001b[0m\u001b[1;33m(\u001b[0m\u001b[1;34m\"frame\"\u001b[0m \u001b[1;33m,\u001b[0m \u001b[0mframe\u001b[0m\u001b[1;33m)\u001b[0m\u001b[1;33m\u001b[0m\u001b[1;33m\u001b[0m\u001b[0m\n\u001b[0;32m     11\u001b[0m \u001b[1;33m\u001b[0m\u001b[0m\n\u001b[1;32m---> 12\u001b[1;33m     \u001b[1;32mif\u001b[0m \u001b[0mcv2\u001b[0m\u001b[1;33m.\u001b[0m\u001b[0mwaitKey\u001b[0m\u001b[1;33m(\u001b[0m\u001b[1;36m1\u001b[0m\u001b[1;33m)\u001b[0m \u001b[1;33m&\u001b[0m \u001b[1;36m0xff\u001b[0m \u001b[1;33m==\u001b[0m \u001b[0mord\u001b[0m\u001b[1;33m(\u001b[0m\u001b[1;34m'q'\u001b[0m\u001b[1;33m)\u001b[0m \u001b[1;33m:\u001b[0m\u001b[1;33m\u001b[0m\u001b[1;33m\u001b[0m\u001b[0m\n\u001b[0m\u001b[0;32m     13\u001b[0m         \u001b[1;32mbreak\u001b[0m\u001b[1;33m\u001b[0m\u001b[1;33m\u001b[0m\u001b[0m\n\u001b[0;32m     14\u001b[0m \u001b[1;33m\u001b[0m\u001b[0m\n",
      "\u001b[1;31mKeyboardInterrupt\u001b[0m: "
     ]
    }
   ],
   "source": [
    "cap = cv2.VideoCapture(0) # this 0 is for the defualt camera\n",
    "\n",
    "width =  int(cap.get(cv2.CAP_PROP_FRAME_WIDTH))\n",
    "height = int(cap.get(cv2.CAP_PROP_FRAME_HEIGHT))  \n",
    "#                                           \n",
    "\n",
    "while True:\n",
    "    ret, frame = cap.read()   # tuple unpacking\n",
    "    \n",
    "    cv2.imshow(\"frame\" , frame)\n",
    "    \n",
    "    if cv2.waitKey(1) & 0xff == ord('q') : \n",
    "        break                                                                                 \n",
    "        \n",
    "cap.release() # stop capturing any video\n",
    "cv2.destroyAllWindows()"
   ]
  },
  {
   "cell_type": "markdown",
   "id": "c79c3323",
   "metadata": {},
   "source": [
    "## Recording The Video"
   ]
  },
  {
   "cell_type": "code",
   "execution_count": 26,
   "id": "57b370fd",
   "metadata": {},
   "outputs": [
    {
     "ename": "SyntaxError",
     "evalue": "invalid syntax (Temp/ipykernel_8672/649532637.py, line 7)",
     "output_type": "error",
     "traceback": [
      "\u001b[1;36m  File \u001b[1;32m\"C:\\Users\\sasai\\AppData\\Local\\Temp/ipykernel_8672/649532637.py\"\u001b[1;36m, line \u001b[1;32m7\u001b[0m\n\u001b[1;33m    while True:\u001b[0m\n\u001b[1;37m    ^\u001b[0m\n\u001b[1;31mSyntaxError\u001b[0m\u001b[1;31m:\u001b[0m invalid syntax\n"
     ]
    }
   ],
   "source": [
    "cap = cv2.VideoCapture(0) # this 0 is for the defualt camera\n",
    "\n",
    "width =  int(cap.get(cv2.CAP_PROP_FRAME_WIDTH))\n",
    "height = int(cap.get(cv2.CAP_PROP_FRAME_HEIGHT))\n",
    "writer = cv2.VideoWriter(\"D:\\Imarticus\\Time Series And Deep Learning\\CNN\\pranjalvideo.Mp4\" , cv2.VideoWriter_fourcc(*'DIVX') , 20, (width, height)\n",
    "    \n",
    "while True:\n",
    "                         \n",
    "    ret, frame = cap.read()  # video is nothing but seires of images ..this is kind of tuple unpacking\n",
    "    \n",
    "    writer.write(frame)  # outpu will be written frame by frame  in the file pranjalvideo\n",
    "    \n",
    "    cv2.imshow(\"frame\" , frame)\n",
    "    \n",
    "    if cv2.waitKey(1) & 0xff == ord('q'):\n",
    "                         \n",
    "cap.release() # stop capturing any video\n",
    "writer.release()\n",
    "cv2.destroyAllWindows()\n"
   ]
  },
  {
   "cell_type": "code",
   "execution_count": 21,
   "id": "6299bc46",
   "metadata": {},
   "outputs": [
    {
     "ename": "SyntaxError",
     "evalue": "unexpected EOF while parsing (Temp/ipykernel_8672/3539745353.py, line 7)",
     "output_type": "error",
     "traceback": [
      "\u001b[1;36m  File \u001b[1;32m\"C:\\Users\\sasai\\AppData\\Local\\Temp/ipykernel_8672/3539745353.py\"\u001b[1;36m, line \u001b[1;32m7\u001b[0m\n\u001b[1;33m    writer = cv2.VideoWriter(\"D:\\Imarticus\\Time Series And Deep Learning\\pranjalvideo.mp4\" , cv2.VideoWriter_fourcc(*'DIVX') , 20, (width, height)\u001b[0m\n\u001b[1;37m                                                                                                                                                  ^\u001b[0m\n\u001b[1;31mSyntaxError\u001b[0m\u001b[1;31m:\u001b[0m unexpected EOF while parsing\n"
     ]
    }
   ],
   "source": [
    "cap = cv2.VideoCapture(0) # this 0 is for the defualt camera\n",
    "\n",
    "width =  int(cap.get(cv2.CAP_PROP_FRAME_WIDTH))\n",
    "height = int(cap.get(cv2.CAP_PROP_FRAME_HEIGHT))\n",
    "# WINDOWS system use  DIVX\n",
    "# LINUX and MAC use   XIVD\n",
    "writer = cv2.VideoWriter(\"D:\\Imarticus\\Time Series And Deep Learning\\pranjalvideo.mp4\" , cv2.VideoWriter_fourcc(*'DIVX') , 20, (width, height)"
   ]
  },
  {
   "cell_type": "code",
   "execution_count": 22,
   "id": "f71bbc9c",
   "metadata": {},
   "outputs": [
    {
     "ename": "IndentationError",
     "evalue": "expected an indented block (Temp/ipykernel_8672/3107881656.py, line 10)",
     "output_type": "error",
     "traceback": [
      "\u001b[1;36m  File \u001b[1;32m\"C:\\Users\\sasai\\AppData\\Local\\Temp/ipykernel_8672/3107881656.py\"\u001b[1;36m, line \u001b[1;32m10\u001b[0m\n\u001b[1;33m    cap.release() # stop capturing any video\u001b[0m\n\u001b[1;37m                                            ^\u001b[0m\n\u001b[1;31mIndentationError\u001b[0m\u001b[1;31m:\u001b[0m expected an indented block\n"
     ]
    }
   ],
   "source": [
    "                        \n",
    "while True:\n",
    "    ret, frame = cap.read()  # video is nothing but seires of images ..this is kind of tuple unpacking\n",
    "    \n",
    "    writer.write(frame)  # outpu will be written frame by frame  in the file pranjalvideo\n",
    "    \n",
    "    cv2.imshow(\"frame\" , frame)\n",
    "    \n",
    "    if cv2.waitKey(1) & 0xff == ord('q'):\n",
    "        \n",
    "cap.release() # stop capturing any video\n",
    "writer.release()\n",
    "cv2.destroyAllWindows()"
   ]
  },
  {
   "cell_type": "code",
   "execution_count": 24,
   "id": "34cae2c0",
   "metadata": {},
   "outputs": [],
   "source": [
    "cap = cv2.VideoCapture(\"G:\\pranjalvideo.mp4\")   # i want to play this video\n",
    "\n",
    "while cap.isOpened():\n",
    "    ret , frame = cap.read()  # here ret is like return\n",
    "    if ret == True:           # this means till the time frames are being returned\n",
    "        cv2.imshow('frame' , frame)\n",
    "        if cv2.waitKey(1) & 0xff == ord('q') :\n",
    "            break\n",
    "            \n",
    "    else:           # this else break it that when youe video finishes\n",
    "        break\n",
    "cap.release()        \n",
    "cv2.destroyAllWindows()\n"
   ]
  },
  {
   "cell_type": "markdown",
   "id": "b3f20996",
   "metadata": {},
   "source": [
    "## To Change the speed for the video"
   ]
  },
  {
   "cell_type": "code",
   "execution_count": null,
   "id": "4c0271af",
   "metadata": {},
   "outputs": [],
   "source": [
    "cap = cv2.VideoCapture(\"G:\\pranjalvideo.mp4\")   # i want to play this video\n",
    "\n",
    "while cap.isOpened():\n",
    "    ret , frame = cap.read()  # here ret is like return\n",
    "    if ret == True:           # this means till the time frames are being returned\n",
    "        time.sleep(1/20)\n",
    "        cv2.imshow('frame' , frame)\n",
    "        if cv2.waitKey(1) & 0xff == ord('q') :\n",
    "            break\n",
    "            \n",
    "    else:           # this else break it that when youe video finishes\n",
    "        break\n",
    "cap.release()        \n",
    "cv2.destroyAllWindows()\n"
   ]
  }
 ],
 "metadata": {
  "kernelspec": {
   "display_name": "Python 3 (ipykernel)",
   "language": "python",
   "name": "python3"
  },
  "language_info": {
   "codemirror_mode": {
    "name": "ipython",
    "version": 3
   },
   "file_extension": ".py",
   "mimetype": "text/x-python",
   "name": "python",
   "nbconvert_exporter": "python",
   "pygments_lexer": "ipython3",
   "version": "3.8.8"
  }
 },
 "nbformat": 4,
 "nbformat_minor": 5
}
