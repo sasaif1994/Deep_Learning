{
 "cells": [
  {
   "cell_type": "code",
   "execution_count": 1,
   "id": "e0c6add3",
   "metadata": {},
   "outputs": [
    {
     "name": "stdout",
     "output_type": "stream",
     "text": [
      "Requirement already satisfied: vader in c:\\programdata\\anaconda3\\lib\\site-packages (0.0.2)\n",
      "Requirement already satisfied: numpy in c:\\users\\sasai\\appdata\\roaming\\python\\python38\\site-packages (from vader) (1.19.5)\n",
      "Requirement already satisfied: sonopy in c:\\programdata\\anaconda3\\lib\\site-packages (from vader) (0.1.2)\n",
      "Requirement already satisfied: scipy in c:\\programdata\\anaconda3\\lib\\site-packages (from vader) (1.7.1)\n",
      "Requirement already satisfied: scikit-learn in c:\\programdata\\anaconda3\\lib\\site-packages (from vader) (0.24.2)\n",
      "Requirement already satisfied: threadpoolctl>=2.0.0 in c:\\programdata\\anaconda3\\lib\\site-packages (from scikit-learn->vader) (2.2.0)\n",
      "Requirement already satisfied: joblib>=0.11 in c:\\programdata\\anaconda3\\lib\\site-packages (from scikit-learn->vader) (1.0.1)\n"
     ]
    }
   ],
   "source": [
    "!pip install vader"
   ]
  },
  {
   "cell_type": "code",
   "execution_count": 2,
   "id": "be60e69f",
   "metadata": {},
   "outputs": [],
   "source": [
    "import nltk"
   ]
  },
  {
   "cell_type": "code",
   "execution_count": 3,
   "id": "b5acb934",
   "metadata": {},
   "outputs": [],
   "source": [
    "from nltk.sentiment.vader import SentimentIntensityAnalyzer"
   ]
  },
  {
   "cell_type": "code",
   "execution_count": 4,
   "id": "1d3830b8",
   "metadata": {},
   "outputs": [
    {
     "name": "stderr",
     "output_type": "stream",
     "text": [
      "[nltk_data] Downloading package vader_lexicon to\n",
      "[nltk_data]     C:\\Users\\sasai\\AppData\\Roaming\\nltk_data...\n",
      "[nltk_data]   Package vader_lexicon is already up-to-date!\n"
     ]
    },
    {
     "data": {
      "text/plain": [
       "True"
      ]
     },
     "execution_count": 4,
     "metadata": {},
     "output_type": "execute_result"
    }
   ],
   "source": [
    "nltk.downloader.download('vader_lexicon')"
   ]
  },
  {
   "cell_type": "code",
   "execution_count": 5,
   "id": "edf92ffb",
   "metadata": {},
   "outputs": [],
   "source": [
    "sent=SentimentIntensityAnalyzer()"
   ]
  },
  {
   "cell_type": "markdown",
   "id": "d39c4d38",
   "metadata": {},
   "source": [
    "### Some Example "
   ]
  },
  {
   "cell_type": "code",
   "execution_count": 6,
   "id": "b602af83",
   "metadata": {},
   "outputs": [
    {
     "data": {
      "text/plain": [
       "{'neg': 0.0, 'neu': 0.857, 'pos': 0.143, 'compound': 0.128}"
      ]
     },
     "execution_count": 6,
     "metadata": {},
     "output_type": "execute_result"
    }
   ],
   "source": [
    "sent.polarity_scores(\"This milk was awesome.I had a havenly feeling by taking a sip\")"
   ]
  },
  {
   "cell_type": "code",
   "execution_count": 7,
   "id": "7dfe9dd4",
   "metadata": {},
   "outputs": [
    {
     "data": {
      "text/plain": [
       "{'neg': 0.571, 'neu': 0.429, 'pos': 0.0, 'compound': -0.9234}"
      ]
     },
     "execution_count": 7,
     "metadata": {},
     "output_type": "execute_result"
    }
   ],
   "source": [
    "sent.polarity_scores(\"Movie was not good and it was waste of money.it very very bad horrible\")"
   ]
  },
  {
   "cell_type": "code",
   "execution_count": 8,
   "id": "d884a9fd",
   "metadata": {},
   "outputs": [
    {
     "data": {
      "text/plain": [
       "{'neg': 0.15, 'neu': 0.695, 'pos': 0.155, 'compound': 0.0258}"
      ]
     },
     "execution_count": 8,
     "metadata": {},
     "output_type": "execute_result"
    }
   ],
   "source": [
    "sent.polarity_scores(\"Movie was good and it was waste of money as i had already seen that movie\")"
   ]
  },
  {
   "cell_type": "code",
   "execution_count": 9,
   "id": "514ab816",
   "metadata": {},
   "outputs": [
    {
     "data": {
      "text/plain": [
       "{'neg': 0.0, 'neu': 1.0, 'pos': 0.0, 'compound': 0.0}"
      ]
     },
     "execution_count": 9,
     "metadata": {},
     "output_type": "execute_result"
    }
   ],
   "source": [
    "sent.polarity_scores(\"sun rises in east\")"
   ]
  },
  {
   "cell_type": "code",
   "execution_count": 10,
   "id": "1f4701c4",
   "metadata": {},
   "outputs": [],
   "source": [
    "import os\n",
    "import pandas as pd\n",
    "import numpy as np"
   ]
  },
  {
   "cell_type": "code",
   "execution_count": 11,
   "id": "9d1fee34",
   "metadata": {},
   "outputs": [],
   "source": [
    "os.chdir(r\"D:\\Imarticus\\Time Series And Deep Learning\\NLP\")"
   ]
  },
  {
   "cell_type": "code",
   "execution_count": 12,
   "id": "ec2ca92e",
   "metadata": {},
   "outputs": [],
   "source": [
    "amazon=pd.read_csv(\"amazonreviews.tsv\",sep=\"\\t\")"
   ]
  },
  {
   "cell_type": "code",
   "execution_count": 13,
   "id": "a993df41",
   "metadata": {},
   "outputs": [
    {
     "data": {
      "text/html": [
       "<div>\n",
       "<style scoped>\n",
       "    .dataframe tbody tr th:only-of-type {\n",
       "        vertical-align: middle;\n",
       "    }\n",
       "\n",
       "    .dataframe tbody tr th {\n",
       "        vertical-align: top;\n",
       "    }\n",
       "\n",
       "    .dataframe thead th {\n",
       "        text-align: right;\n",
       "    }\n",
       "</style>\n",
       "<table border=\"1\" class=\"dataframe\">\n",
       "  <thead>\n",
       "    <tr style=\"text-align: right;\">\n",
       "      <th></th>\n",
       "      <th>label</th>\n",
       "      <th>review</th>\n",
       "    </tr>\n",
       "  </thead>\n",
       "  <tbody>\n",
       "    <tr>\n",
       "      <th>0</th>\n",
       "      <td>pos</td>\n",
       "      <td>Stuning even for the non-gamer: This sound tra...</td>\n",
       "    </tr>\n",
       "    <tr>\n",
       "      <th>1</th>\n",
       "      <td>pos</td>\n",
       "      <td>The best soundtrack ever to anything.: I'm rea...</td>\n",
       "    </tr>\n",
       "    <tr>\n",
       "      <th>2</th>\n",
       "      <td>pos</td>\n",
       "      <td>Amazing!: This soundtrack is my favorite music...</td>\n",
       "    </tr>\n",
       "    <tr>\n",
       "      <th>3</th>\n",
       "      <td>pos</td>\n",
       "      <td>Excellent Soundtrack: I truly like this soundt...</td>\n",
       "    </tr>\n",
       "    <tr>\n",
       "      <th>4</th>\n",
       "      <td>pos</td>\n",
       "      <td>Remember, Pull Your Jaw Off The Floor After He...</td>\n",
       "    </tr>\n",
       "    <tr>\n",
       "      <th>...</th>\n",
       "      <td>...</td>\n",
       "      <td>...</td>\n",
       "    </tr>\n",
       "    <tr>\n",
       "      <th>9995</th>\n",
       "      <td>pos</td>\n",
       "      <td>A revelation of life in small town America in ...</td>\n",
       "    </tr>\n",
       "    <tr>\n",
       "      <th>9996</th>\n",
       "      <td>pos</td>\n",
       "      <td>Great biography of a very interesting journali...</td>\n",
       "    </tr>\n",
       "    <tr>\n",
       "      <th>9997</th>\n",
       "      <td>neg</td>\n",
       "      <td>Interesting Subject; Poor Presentation: You'd ...</td>\n",
       "    </tr>\n",
       "    <tr>\n",
       "      <th>9998</th>\n",
       "      <td>neg</td>\n",
       "      <td>Don't buy: The box looked used and it is obvio...</td>\n",
       "    </tr>\n",
       "    <tr>\n",
       "      <th>9999</th>\n",
       "      <td>pos</td>\n",
       "      <td>Beautiful Pen and Fast Delivery.: The pen was ...</td>\n",
       "    </tr>\n",
       "  </tbody>\n",
       "</table>\n",
       "<p>10000 rows × 2 columns</p>\n",
       "</div>"
      ],
      "text/plain": [
       "     label                                             review\n",
       "0      pos  Stuning even for the non-gamer: This sound tra...\n",
       "1      pos  The best soundtrack ever to anything.: I'm rea...\n",
       "2      pos  Amazing!: This soundtrack is my favorite music...\n",
       "3      pos  Excellent Soundtrack: I truly like this soundt...\n",
       "4      pos  Remember, Pull Your Jaw Off The Floor After He...\n",
       "...    ...                                                ...\n",
       "9995   pos  A revelation of life in small town America in ...\n",
       "9996   pos  Great biography of a very interesting journali...\n",
       "9997   neg  Interesting Subject; Poor Presentation: You'd ...\n",
       "9998   neg  Don't buy: The box looked used and it is obvio...\n",
       "9999   pos  Beautiful Pen and Fast Delivery.: The pen was ...\n",
       "\n",
       "[10000 rows x 2 columns]"
      ]
     },
     "execution_count": 13,
     "metadata": {},
     "output_type": "execute_result"
    }
   ],
   "source": [
    "amazon"
   ]
  },
  {
   "cell_type": "code",
   "execution_count": 14,
   "id": "1aaf2134",
   "metadata": {},
   "outputs": [
    {
     "data": {
      "text/plain": [
       "{'neg': 0.088, 'neu': 0.669, 'pos': 0.243, 'compound': 0.9454}"
      ]
     },
     "execution_count": 14,
     "metadata": {},
     "output_type": "execute_result"
    }
   ],
   "source": [
    "abc=sent.polarity_scores(amazon.iloc[0][1])\n",
    "\n",
    "abc"
   ]
  },
  {
   "cell_type": "code",
   "execution_count": 15,
   "id": "ecff6fcb",
   "metadata": {},
   "outputs": [
    {
     "data": {
      "text/plain": [
       "'Stuning even for the non-gamer: This sound track was beautiful! It paints the senery in your mind so well I would recomend it even to people who hate vid. game music! I have played the game Chrono Cross but out of all of the games I have ever played it has the best music! It backs away from crude keyboarding and takes a fresher step with grate guitars and soulful orchestras. It would impress anyone who cares to listen! ^_^'"
      ]
     },
     "execution_count": 15,
     "metadata": {},
     "output_type": "execute_result"
    }
   ],
   "source": [
    "amazon.iloc[0][1]"
   ]
  },
  {
   "cell_type": "markdown",
   "id": "1b47ad49",
   "metadata": {},
   "source": [
    "#### A product was launched by the amazon and few thousand customer have given the feed back ,company is intrested to find if the overall customer sentiment is positive or negative.\n",
    "#### Consider label column is not there with company"
   ]
  },
  {
   "cell_type": "code",
   "execution_count": 16,
   "id": "d649d70f",
   "metadata": {},
   "outputs": [],
   "source": [
    "score_com=[]\n",
    "score_pos=[]\n",
    "score_neg=[]\n",
    "for i in range (0,amazon.shape[0]):\n",
    "    score=sent.polarity_scores(amazon.iloc[i][1]) # This [1] is for the 2nd column (review columns)\n",
    "    score1=score['compound']\n",
    "    score_com.append(score1)\n",
    "    # Below 2 lines to extract the positive sentiment\n",
    "    score2=score['pos']\n",
    "    score_pos.append(score2)\n",
    "    # Below 2 lines to extract the negative sentiment\n",
    "    score2 =score['neg']\n",
    "    score_neg.append(score2)"
   ]
  },
  {
   "cell_type": "code",
   "execution_count": 17,
   "id": "f3d4f9f5",
   "metadata": {},
   "outputs": [
    {
     "data": {
      "text/plain": [
       "0.33520672"
      ]
     },
     "execution_count": 17,
     "metadata": {},
     "output_type": "execute_result"
    }
   ],
   "source": [
    "np.mean(score_com)"
   ]
  },
  {
   "cell_type": "code",
   "execution_count": 18,
   "id": "8174ee71",
   "metadata": {},
   "outputs": [],
   "source": [
    "## Adding the new column to the dataFrame\n",
    "amazon[\"Comp-Score\"]=score_com\n",
    "amazon[\"Pos-Score\"]=score_pos\n",
    "amazon[\"Neg-Score\"]=score_neg"
   ]
  },
  {
   "cell_type": "code",
   "execution_count": 19,
   "id": "1017f973",
   "metadata": {},
   "outputs": [
    {
     "data": {
      "text/html": [
       "<div>\n",
       "<style scoped>\n",
       "    .dataframe tbody tr th:only-of-type {\n",
       "        vertical-align: middle;\n",
       "    }\n",
       "\n",
       "    .dataframe tbody tr th {\n",
       "        vertical-align: top;\n",
       "    }\n",
       "\n",
       "    .dataframe thead th {\n",
       "        text-align: right;\n",
       "    }\n",
       "</style>\n",
       "<table border=\"1\" class=\"dataframe\">\n",
       "  <thead>\n",
       "    <tr style=\"text-align: right;\">\n",
       "      <th></th>\n",
       "      <th>label</th>\n",
       "      <th>review</th>\n",
       "      <th>Comp-Score</th>\n",
       "      <th>Pos-Score</th>\n",
       "      <th>Neg-Score</th>\n",
       "    </tr>\n",
       "  </thead>\n",
       "  <tbody>\n",
       "    <tr>\n",
       "      <th>0</th>\n",
       "      <td>pos</td>\n",
       "      <td>Stuning even for the non-gamer: This sound tra...</td>\n",
       "      <td>0.9454</td>\n",
       "      <td>0.243</td>\n",
       "      <td>0.088</td>\n",
       "    </tr>\n",
       "    <tr>\n",
       "      <th>1</th>\n",
       "      <td>pos</td>\n",
       "      <td>The best soundtrack ever to anything.: I'm rea...</td>\n",
       "      <td>0.8957</td>\n",
       "      <td>0.145</td>\n",
       "      <td>0.018</td>\n",
       "    </tr>\n",
       "    <tr>\n",
       "      <th>2</th>\n",
       "      <td>pos</td>\n",
       "      <td>Amazing!: This soundtrack is my favorite music...</td>\n",
       "      <td>0.9858</td>\n",
       "      <td>0.268</td>\n",
       "      <td>0.040</td>\n",
       "    </tr>\n",
       "    <tr>\n",
       "      <th>3</th>\n",
       "      <td>pos</td>\n",
       "      <td>Excellent Soundtrack: I truly like this soundt...</td>\n",
       "      <td>0.9814</td>\n",
       "      <td>0.295</td>\n",
       "      <td>0.090</td>\n",
       "    </tr>\n",
       "    <tr>\n",
       "      <th>4</th>\n",
       "      <td>pos</td>\n",
       "      <td>Remember, Pull Your Jaw Off The Floor After He...</td>\n",
       "      <td>0.9781</td>\n",
       "      <td>0.254</td>\n",
       "      <td>0.000</td>\n",
       "    </tr>\n",
       "  </tbody>\n",
       "</table>\n",
       "</div>"
      ],
      "text/plain": [
       "  label                                             review  Comp-Score  \\\n",
       "0   pos  Stuning even for the non-gamer: This sound tra...      0.9454   \n",
       "1   pos  The best soundtrack ever to anything.: I'm rea...      0.8957   \n",
       "2   pos  Amazing!: This soundtrack is my favorite music...      0.9858   \n",
       "3   pos  Excellent Soundtrack: I truly like this soundt...      0.9814   \n",
       "4   pos  Remember, Pull Your Jaw Off The Floor After He...      0.9781   \n",
       "\n",
       "   Pos-Score  Neg-Score  \n",
       "0      0.243      0.088  \n",
       "1      0.145      0.018  \n",
       "2      0.268      0.040  \n",
       "3      0.295      0.090  \n",
       "4      0.254      0.000  "
      ]
     },
     "execution_count": 19,
     "metadata": {},
     "output_type": "execute_result"
    }
   ],
   "source": [
    "amazon.head()"
   ]
  },
  {
   "cell_type": "code",
   "execution_count": 20,
   "id": "11e003a9",
   "metadata": {},
   "outputs": [
    {
     "name": "stdout",
     "output_type": "stream",
     "text": [
      "0.3352067199999999\n",
      "0.15151900000000001\n",
      "0.07635639999999992\n"
     ]
    }
   ],
   "source": [
    "print(amazon[\"Comp-Score\"].mean())\n",
    "\n",
    "print(amazon[\"Pos-Score\"].mean())\n",
    "\n",
    "print(amazon[\"Neg-Score\"].mean())"
   ]
  },
  {
   "cell_type": "markdown",
   "id": "8506f4fe",
   "metadata": {},
   "source": [
    "### Let's check the neg comment and compare with the predicted columns to check if Label Value matching with the model"
   ]
  },
  {
   "cell_type": "code",
   "execution_count": 21,
   "id": "9331a1d6",
   "metadata": {},
   "outputs": [
    {
     "data": {
      "text/html": [
       "<div>\n",
       "<style scoped>\n",
       "    .dataframe tbody tr th:only-of-type {\n",
       "        vertical-align: middle;\n",
       "    }\n",
       "\n",
       "    .dataframe tbody tr th {\n",
       "        vertical-align: top;\n",
       "    }\n",
       "\n",
       "    .dataframe thead th {\n",
       "        text-align: right;\n",
       "    }\n",
       "</style>\n",
       "<table border=\"1\" class=\"dataframe\">\n",
       "  <thead>\n",
       "    <tr style=\"text-align: right;\">\n",
       "      <th></th>\n",
       "      <th>label</th>\n",
       "      <th>review</th>\n",
       "      <th>Comp-Score</th>\n",
       "      <th>Pos-Score</th>\n",
       "      <th>Neg-Score</th>\n",
       "    </tr>\n",
       "  </thead>\n",
       "  <tbody>\n",
       "    <tr>\n",
       "      <th>6</th>\n",
       "      <td>neg</td>\n",
       "      <td>Buyer beware: This is a self-published book, a...</td>\n",
       "      <td>-0.8744</td>\n",
       "      <td>0.069</td>\n",
       "      <td>0.124</td>\n",
       "    </tr>\n",
       "    <tr>\n",
       "      <th>10</th>\n",
       "      <td>neg</td>\n",
       "      <td>The Worst!: A complete waste of time. Typograp...</td>\n",
       "      <td>-0.9274</td>\n",
       "      <td>0.054</td>\n",
       "      <td>0.360</td>\n",
       "    </tr>\n",
       "    <tr>\n",
       "      <th>13</th>\n",
       "      <td>neg</td>\n",
       "      <td>Oh please: I guess you have to be a romance no...</td>\n",
       "      <td>0.9097</td>\n",
       "      <td>0.199</td>\n",
       "      <td>0.077</td>\n",
       "    </tr>\n",
       "    <tr>\n",
       "      <th>14</th>\n",
       "      <td>neg</td>\n",
       "      <td>Awful beyond belief!: I feel I have to write t...</td>\n",
       "      <td>-0.9312</td>\n",
       "      <td>0.074</td>\n",
       "      <td>0.171</td>\n",
       "    </tr>\n",
       "    <tr>\n",
       "      <th>15</th>\n",
       "      <td>neg</td>\n",
       "      <td>Don't try to fool us with fake reviews.: It's ...</td>\n",
       "      <td>-0.5414</td>\n",
       "      <td>0.063</td>\n",
       "      <td>0.105</td>\n",
       "    </tr>\n",
       "    <tr>\n",
       "      <th>19</th>\n",
       "      <td>neg</td>\n",
       "      <td>sizes recomended in the size chart are not rea...</td>\n",
       "      <td>0.4926</td>\n",
       "      <td>0.065</td>\n",
       "      <td>0.000</td>\n",
       "    </tr>\n",
       "    <tr>\n",
       "      <th>20</th>\n",
       "      <td>neg</td>\n",
       "      <td>mens ultrasheer: This model may be ok for sede...</td>\n",
       "      <td>0.6318</td>\n",
       "      <td>0.170</td>\n",
       "      <td>0.134</td>\n",
       "    </tr>\n",
       "    <tr>\n",
       "      <th>22</th>\n",
       "      <td>neg</td>\n",
       "      <td>Another Abysmal Digital Copy: Rather than scra...</td>\n",
       "      <td>0.9667</td>\n",
       "      <td>0.145</td>\n",
       "      <td>0.037</td>\n",
       "    </tr>\n",
       "    <tr>\n",
       "      <th>25</th>\n",
       "      <td>neg</td>\n",
       "      <td>Problem with charging smaller AAAs: I have had...</td>\n",
       "      <td>-0.7845</td>\n",
       "      <td>0.090</td>\n",
       "      <td>0.149</td>\n",
       "    </tr>\n",
       "    <tr>\n",
       "      <th>26</th>\n",
       "      <td>neg</td>\n",
       "      <td>Works, but not as advertised: I bought one of ...</td>\n",
       "      <td>-0.0857</td>\n",
       "      <td>0.080</td>\n",
       "      <td>0.092</td>\n",
       "    </tr>\n",
       "  </tbody>\n",
       "</table>\n",
       "</div>"
      ],
      "text/plain": [
       "   label                                             review  Comp-Score  \\\n",
       "6    neg  Buyer beware: This is a self-published book, a...     -0.8744   \n",
       "10   neg  The Worst!: A complete waste of time. Typograp...     -0.9274   \n",
       "13   neg  Oh please: I guess you have to be a romance no...      0.9097   \n",
       "14   neg  Awful beyond belief!: I feel I have to write t...     -0.9312   \n",
       "15   neg  Don't try to fool us with fake reviews.: It's ...     -0.5414   \n",
       "19   neg  sizes recomended in the size chart are not rea...      0.4926   \n",
       "20   neg  mens ultrasheer: This model may be ok for sede...      0.6318   \n",
       "22   neg  Another Abysmal Digital Copy: Rather than scra...      0.9667   \n",
       "25   neg  Problem with charging smaller AAAs: I have had...     -0.7845   \n",
       "26   neg  Works, but not as advertised: I bought one of ...     -0.0857   \n",
       "\n",
       "    Pos-Score  Neg-Score  \n",
       "6       0.069      0.124  \n",
       "10      0.054      0.360  \n",
       "13      0.199      0.077  \n",
       "14      0.074      0.171  \n",
       "15      0.063      0.105  \n",
       "19      0.065      0.000  \n",
       "20      0.170      0.134  \n",
       "22      0.145      0.037  \n",
       "25      0.090      0.149  \n",
       "26      0.080      0.092  "
      ]
     },
     "execution_count": 21,
     "metadata": {},
     "output_type": "execute_result"
    }
   ],
   "source": [
    "amazon[amazon.label=='neg'].head(10) "
   ]
  },
  {
   "cell_type": "code",
   "execution_count": null,
   "id": "2aab1fc4",
   "metadata": {},
   "outputs": [],
   "source": []
  },
  {
   "cell_type": "code",
   "execution_count": null,
   "id": "795c4ca8",
   "metadata": {},
   "outputs": [],
   "source": []
  },
  {
   "cell_type": "code",
   "execution_count": null,
   "id": "56288759",
   "metadata": {},
   "outputs": [],
   "source": []
  },
  {
   "cell_type": "code",
   "execution_count": null,
   "id": "7e294afa",
   "metadata": {},
   "outputs": [],
   "source": []
  },
  {
   "cell_type": "markdown",
   "id": "5293dca1",
   "metadata": {},
   "source": [
    "### Practice 2 Dataset"
   ]
  },
  {
   "cell_type": "code",
   "execution_count": 22,
   "id": "4aae3769",
   "metadata": {},
   "outputs": [
    {
     "data": {
      "text/html": [
       "<div>\n",
       "<style scoped>\n",
       "    .dataframe tbody tr th:only-of-type {\n",
       "        vertical-align: middle;\n",
       "    }\n",
       "\n",
       "    .dataframe tbody tr th {\n",
       "        vertical-align: top;\n",
       "    }\n",
       "\n",
       "    .dataframe thead th {\n",
       "        text-align: right;\n",
       "    }\n",
       "</style>\n",
       "<table border=\"1\" class=\"dataframe\">\n",
       "  <thead>\n",
       "    <tr style=\"text-align: right;\">\n",
       "      <th></th>\n",
       "      <th>Rating</th>\n",
       "      <th>Review</th>\n",
       "    </tr>\n",
       "  </thead>\n",
       "  <tbody>\n",
       "    <tr>\n",
       "      <th>0</th>\n",
       "      <td>4</td>\n",
       "      <td>nice hotel expensive parking got good deal sta...</td>\n",
       "    </tr>\n",
       "    <tr>\n",
       "      <th>1</th>\n",
       "      <td>2</td>\n",
       "      <td>ok nothing special charge diamond member hilto...</td>\n",
       "    </tr>\n",
       "    <tr>\n",
       "      <th>2</th>\n",
       "      <td>3</td>\n",
       "      <td>nice rooms not 4* experience hotel monaco seat...</td>\n",
       "    </tr>\n",
       "    <tr>\n",
       "      <th>3</th>\n",
       "      <td>5</td>\n",
       "      <td>unique, great stay, wonderful time hotel monac...</td>\n",
       "    </tr>\n",
       "    <tr>\n",
       "      <th>4</th>\n",
       "      <td>5</td>\n",
       "      <td>great stay great stay, went seahawk game aweso...</td>\n",
       "    </tr>\n",
       "  </tbody>\n",
       "</table>\n",
       "</div>"
      ],
      "text/plain": [
       "   Rating                                             Review\n",
       "0       4  nice hotel expensive parking got good deal sta...\n",
       "1       2  ok nothing special charge diamond member hilto...\n",
       "2       3  nice rooms not 4* experience hotel monaco seat...\n",
       "3       5  unique, great stay, wonderful time hotel monac...\n",
       "4       5  great stay great stay, went seahawk game aweso..."
      ]
     },
     "execution_count": 22,
     "metadata": {},
     "output_type": "execute_result"
    }
   ],
   "source": [
    "os.chdir(r\"D:\\Imarticus\\Time Series And Deep Learning\\NLP\")\n",
    "\n",
    "Trip=pd.read_csv(\"Trip_advisor_review.csv\")\n",
    "\n",
    "Trip.head()"
   ]
  },
  {
   "cell_type": "code",
   "execution_count": 23,
   "id": "31505fda",
   "metadata": {},
   "outputs": [],
   "source": [
    "score_com=[]\n",
    "score_pos=[]\n",
    "score_neg=[]\n",
    "for i in range (0,Trip.shape[0]):\n",
    "    score=sent.polarity_scores(Trip.iloc[i][1]) # This [1] is for the 2nd column (review columns)\n",
    "    score1=score['compound']\n",
    "    score_com.append(score1)\n",
    "    # Below 2 lines to extract the positive sentiment\n",
    "    score2=score['pos']\n",
    "    score_pos.append(score2)\n",
    "    # Below 2 lines to extract the negative sentiment\n",
    "    score2 =score['neg']\n",
    "    score_neg.append(score2)"
   ]
  },
  {
   "cell_type": "code",
   "execution_count": 24,
   "id": "31af5879",
   "metadata": {},
   "outputs": [],
   "source": [
    "## Adding the new column to the dataFrame\n",
    "Trip[\"Comp-Score\"]=score_com\n",
    "Trip[\"Pos-Score\"]=score_pos\n",
    "Trip[\"Neg-Score\"]=score_neg"
   ]
  },
  {
   "cell_type": "code",
   "execution_count": 25,
   "id": "9c61d0ed",
   "metadata": {},
   "outputs": [
    {
     "name": "stdout",
     "output_type": "stream",
     "text": [
      "0.8034298862915489\n",
      "0.3103757747303704\n",
      "0.07190839880923351\n"
     ]
    }
   ],
   "source": [
    "print(Trip[\"Comp-Score\"].mean())\n",
    "\n",
    "print(Trip[\"Pos-Score\"].mean())\n",
    "\n",
    "print(Trip[\"Neg-Score\"].mean())"
   ]
  },
  {
   "cell_type": "markdown",
   "id": "a92f18b7",
   "metadata": {},
   "source": [
    "### We can Evaluate from the above vlaue that overall review is towards positive as the compound is high."
   ]
  },
  {
   "cell_type": "code",
   "execution_count": 26,
   "id": "7412c26a",
   "metadata": {},
   "outputs": [
    {
     "data": {
      "text/html": [
       "<div>\n",
       "<style scoped>\n",
       "    .dataframe tbody tr th:only-of-type {\n",
       "        vertical-align: middle;\n",
       "    }\n",
       "\n",
       "    .dataframe tbody tr th {\n",
       "        vertical-align: top;\n",
       "    }\n",
       "\n",
       "    .dataframe thead th {\n",
       "        text-align: right;\n",
       "    }\n",
       "</style>\n",
       "<table border=\"1\" class=\"dataframe\">\n",
       "  <thead>\n",
       "    <tr style=\"text-align: right;\">\n",
       "      <th></th>\n",
       "      <th>Rating</th>\n",
       "      <th>Review</th>\n",
       "      <th>Comp-Score</th>\n",
       "      <th>Pos-Score</th>\n",
       "      <th>Neg-Score</th>\n",
       "    </tr>\n",
       "  </thead>\n",
       "  <tbody>\n",
       "    <tr>\n",
       "      <th>0</th>\n",
       "      <td>4</td>\n",
       "      <td>nice hotel expensive parking got good deal sta...</td>\n",
       "      <td>0.9747</td>\n",
       "      <td>0.285</td>\n",
       "      <td>0.072</td>\n",
       "    </tr>\n",
       "    <tr>\n",
       "      <th>1</th>\n",
       "      <td>2</td>\n",
       "      <td>ok nothing special charge diamond member hilto...</td>\n",
       "      <td>0.9787</td>\n",
       "      <td>0.189</td>\n",
       "      <td>0.110</td>\n",
       "    </tr>\n",
       "    <tr>\n",
       "      <th>2</th>\n",
       "      <td>3</td>\n",
       "      <td>nice rooms not 4* experience hotel monaco seat...</td>\n",
       "      <td>0.9889</td>\n",
       "      <td>0.219</td>\n",
       "      <td>0.081</td>\n",
       "    </tr>\n",
       "    <tr>\n",
       "      <th>3</th>\n",
       "      <td>5</td>\n",
       "      <td>unique, great stay, wonderful time hotel monac...</td>\n",
       "      <td>0.9912</td>\n",
       "      <td>0.385</td>\n",
       "      <td>0.060</td>\n",
       "    </tr>\n",
       "    <tr>\n",
       "      <th>4</th>\n",
       "      <td>5</td>\n",
       "      <td>great stay great stay, went seahawk game aweso...</td>\n",
       "      <td>0.9797</td>\n",
       "      <td>0.221</td>\n",
       "      <td>0.135</td>\n",
       "    </tr>\n",
       "  </tbody>\n",
       "</table>\n",
       "</div>"
      ],
      "text/plain": [
       "   Rating                                             Review  Comp-Score  \\\n",
       "0       4  nice hotel expensive parking got good deal sta...      0.9747   \n",
       "1       2  ok nothing special charge diamond member hilto...      0.9787   \n",
       "2       3  nice rooms not 4* experience hotel monaco seat...      0.9889   \n",
       "3       5  unique, great stay, wonderful time hotel monac...      0.9912   \n",
       "4       5  great stay great stay, went seahawk game aweso...      0.9797   \n",
       "\n",
       "   Pos-Score  Neg-Score  \n",
       "0      0.285      0.072  \n",
       "1      0.189      0.110  \n",
       "2      0.219      0.081  \n",
       "3      0.385      0.060  \n",
       "4      0.221      0.135  "
      ]
     },
     "execution_count": 26,
     "metadata": {},
     "output_type": "execute_result"
    }
   ],
   "source": [
    "Trip.head()"
   ]
  },
  {
   "cell_type": "code",
   "execution_count": 33,
   "id": "900c47f2",
   "metadata": {},
   "outputs": [],
   "source": [
    "## Calculating Sentiment Score in this data set\n",
    "polarity_score=[]\n",
    "for i in range(0,Trip.shape[0]):\n",
    "    score=TextBlob(Trip.iloc[i][1])\n",
    "    score1=score.sentiment[0]\n",
    "    polarity_score.append(score1)"
   ]
  },
  {
   "cell_type": "code",
   "execution_count": 34,
   "id": "cf849028",
   "metadata": {},
   "outputs": [],
   "source": [
    "Trip=pd.concat([Trip,pd.Series(polarity_score)],axis=1)"
   ]
  },
  {
   "cell_type": "code",
   "execution_count": 35,
   "id": "2d67d16b",
   "metadata": {},
   "outputs": [],
   "source": [
    "Trip.rename(columns={Trip.columns[5]:\"Sentiment_score\"},inplace=True)"
   ]
  },
  {
   "cell_type": "code",
   "execution_count": 37,
   "id": "369954d1",
   "metadata": {},
   "outputs": [
    {
     "data": {
      "text/html": [
       "<div>\n",
       "<style scoped>\n",
       "    .dataframe tbody tr th:only-of-type {\n",
       "        vertical-align: middle;\n",
       "    }\n",
       "\n",
       "    .dataframe tbody tr th {\n",
       "        vertical-align: top;\n",
       "    }\n",
       "\n",
       "    .dataframe thead th {\n",
       "        text-align: right;\n",
       "    }\n",
       "</style>\n",
       "<table border=\"1\" class=\"dataframe\">\n",
       "  <thead>\n",
       "    <tr style=\"text-align: right;\">\n",
       "      <th></th>\n",
       "      <th>Rating</th>\n",
       "      <th>Review</th>\n",
       "      <th>Comp-Score</th>\n",
       "      <th>Pos-Score</th>\n",
       "      <th>Neg-Score</th>\n",
       "      <th>Sentiment_score</th>\n",
       "    </tr>\n",
       "  </thead>\n",
       "  <tbody>\n",
       "    <tr>\n",
       "      <th>0</th>\n",
       "      <td>4</td>\n",
       "      <td>nice hotel expensive parking got good deal sta...</td>\n",
       "      <td>0.9747</td>\n",
       "      <td>0.285</td>\n",
       "      <td>0.072</td>\n",
       "      <td>0.208744</td>\n",
       "    </tr>\n",
       "    <tr>\n",
       "      <th>1</th>\n",
       "      <td>2</td>\n",
       "      <td>ok nothing special charge diamond member hilto...</td>\n",
       "      <td>0.9787</td>\n",
       "      <td>0.189</td>\n",
       "      <td>0.110</td>\n",
       "      <td>0.214923</td>\n",
       "    </tr>\n",
       "    <tr>\n",
       "      <th>2</th>\n",
       "      <td>3</td>\n",
       "      <td>nice rooms not 4* experience hotel monaco seat...</td>\n",
       "      <td>0.9889</td>\n",
       "      <td>0.219</td>\n",
       "      <td>0.081</td>\n",
       "      <td>0.294420</td>\n",
       "    </tr>\n",
       "    <tr>\n",
       "      <th>3</th>\n",
       "      <td>5</td>\n",
       "      <td>unique, great stay, wonderful time hotel monac...</td>\n",
       "      <td>0.9912</td>\n",
       "      <td>0.385</td>\n",
       "      <td>0.060</td>\n",
       "      <td>0.504825</td>\n",
       "    </tr>\n",
       "    <tr>\n",
       "      <th>4</th>\n",
       "      <td>5</td>\n",
       "      <td>great stay great stay, went seahawk game aweso...</td>\n",
       "      <td>0.9797</td>\n",
       "      <td>0.221</td>\n",
       "      <td>0.135</td>\n",
       "      <td>0.384615</td>\n",
       "    </tr>\n",
       "  </tbody>\n",
       "</table>\n",
       "</div>"
      ],
      "text/plain": [
       "   Rating                                             Review  Comp-Score  \\\n",
       "0       4  nice hotel expensive parking got good deal sta...      0.9747   \n",
       "1       2  ok nothing special charge diamond member hilto...      0.9787   \n",
       "2       3  nice rooms not 4* experience hotel monaco seat...      0.9889   \n",
       "3       5  unique, great stay, wonderful time hotel monac...      0.9912   \n",
       "4       5  great stay great stay, went seahawk game aweso...      0.9797   \n",
       "\n",
       "   Pos-Score  Neg-Score  Sentiment_score  \n",
       "0      0.285      0.072         0.208744  \n",
       "1      0.189      0.110         0.214923  \n",
       "2      0.219      0.081         0.294420  \n",
       "3      0.385      0.060         0.504825  \n",
       "4      0.221      0.135         0.384615  "
      ]
     },
     "execution_count": 37,
     "metadata": {},
     "output_type": "execute_result"
    }
   ],
   "source": [
    "Trip.head()"
   ]
  },
  {
   "cell_type": "code",
   "execution_count": 36,
   "id": "35e9feff",
   "metadata": {},
   "outputs": [
    {
     "data": {
      "text/plain": [
       "0.27427779068137187"
      ]
     },
     "execution_count": 36,
     "metadata": {},
     "output_type": "execute_result"
    }
   ],
   "source": [
    "Trip.Sentiment_score.mean()"
   ]
  },
  {
   "cell_type": "code",
   "execution_count": null,
   "id": "796bf158",
   "metadata": {},
   "outputs": [],
   "source": []
  },
  {
   "cell_type": "markdown",
   "id": "4d6556c2",
   "metadata": {},
   "source": [
    "### TextBlob & Sentiment_Score"
   ]
  },
  {
   "cell_type": "code",
   "execution_count": 27,
   "id": "a76b38e5",
   "metadata": {},
   "outputs": [
    {
     "name": "stdout",
     "output_type": "stream",
     "text": [
      "Requirement already satisfied: TextBlob in c:\\programdata\\anaconda3\\lib\\site-packages (0.15.3)\n",
      "Requirement already satisfied: nltk>=3.1 in c:\\programdata\\anaconda3\\lib\\site-packages (from TextBlob) (3.6.2)\n",
      "Requirement already satisfied: regex in c:\\programdata\\anaconda3\\lib\\site-packages (from nltk>=3.1->TextBlob) (2021.8.3)\n",
      "Requirement already satisfied: tqdm in c:\\programdata\\anaconda3\\lib\\site-packages (from nltk>=3.1->TextBlob) (4.62.1)\n",
      "Requirement already satisfied: click in c:\\users\\sasai\\appdata\\roaming\\python\\python38\\site-packages (from nltk>=3.1->TextBlob) (7.1.2)\n",
      "Requirement already satisfied: joblib in c:\\programdata\\anaconda3\\lib\\site-packages (from nltk>=3.1->TextBlob) (1.0.1)\n",
      "Requirement already satisfied: colorama in c:\\programdata\\anaconda3\\lib\\site-packages (from tqdm->nltk>=3.1->TextBlob) (0.4.4)\n"
     ]
    }
   ],
   "source": [
    "!pip install TextBlob\n",
    "from textblob import TextBlob"
   ]
  },
  {
   "cell_type": "code",
   "execution_count": 28,
   "id": "a290707d",
   "metadata": {},
   "outputs": [
    {
     "name": "stdout",
     "output_type": "stream",
     "text": [
      "Sentiment(polarity=0.9099999999999999, subjectivity=0.7800000000000001)\n",
      "Sentiment(polarity=-0.9099999999999998, subjectivity=0.8666666666666667)\n",
      "Sentiment(polarity=0.0, subjectivity=0.0)\n"
     ]
    }
   ],
   "source": [
    "text1=\"food made at the resturant was very good\"\n",
    "text2=\"color of this car is very bad and\"\n",
    "text3=\"sun risies in east\"\n",
    "\n",
    "blob1=TextBlob(text1)\n",
    "blob2=TextBlob(text2)\n",
    "blob3=TextBlob(text3)\n",
    "\n",
    "print(blob1.sentiment); print(blob2.sentiment);print(blob3.sentiment)"
   ]
  },
  {
   "cell_type": "markdown",
   "id": "fabd7c41",
   "metadata": {},
   "source": [
    "### Subjectivity realted to opinion or fact\n",
    "    * If its a opinion subjectivity would be high\n",
    "    * If its a information subjectivity would be less"
   ]
  },
  {
   "cell_type": "code",
   "execution_count": 29,
   "id": "61ef19b7",
   "metadata": {},
   "outputs": [],
   "source": [
    "polarity_score=[]\n",
    "for i in range(0,amazon.shape[0]):\n",
    "    score=TextBlob(amazon.iloc[i][1])\n",
    "    score1=score.sentiment[0]\n",
    "    polarity_score.append(score1)"
   ]
  },
  {
   "cell_type": "code",
   "execution_count": 30,
   "id": "6b8c88d6",
   "metadata": {},
   "outputs": [],
   "source": [
    "amazon=pd.concat([amazon,pd.Series(polarity_score)],axis=1)\n",
    "amazon.rename(columns={amazon.columns[5]:\"Sentiment_score\"},inplace=True)"
   ]
  },
  {
   "cell_type": "code",
   "execution_count": 31,
   "id": "0e02be10",
   "metadata": {},
   "outputs": [
    {
     "data": {
      "text/html": [
       "<div>\n",
       "<style scoped>\n",
       "    .dataframe tbody tr th:only-of-type {\n",
       "        vertical-align: middle;\n",
       "    }\n",
       "\n",
       "    .dataframe tbody tr th {\n",
       "        vertical-align: top;\n",
       "    }\n",
       "\n",
       "    .dataframe thead th {\n",
       "        text-align: right;\n",
       "    }\n",
       "</style>\n",
       "<table border=\"1\" class=\"dataframe\">\n",
       "  <thead>\n",
       "    <tr style=\"text-align: right;\">\n",
       "      <th></th>\n",
       "      <th>label</th>\n",
       "      <th>review</th>\n",
       "      <th>Comp-Score</th>\n",
       "      <th>Pos-Score</th>\n",
       "      <th>Neg-Score</th>\n",
       "      <th>Sentiment_score</th>\n",
       "    </tr>\n",
       "  </thead>\n",
       "  <tbody>\n",
       "    <tr>\n",
       "      <th>0</th>\n",
       "      <td>pos</td>\n",
       "      <td>Stuning even for the non-gamer: This sound tra...</td>\n",
       "      <td>0.9454</td>\n",
       "      <td>0.243</td>\n",
       "      <td>0.088</td>\n",
       "      <td>-0.021875</td>\n",
       "    </tr>\n",
       "    <tr>\n",
       "      <th>1</th>\n",
       "      <td>pos</td>\n",
       "      <td>The best soundtrack ever to anything.: I'm rea...</td>\n",
       "      <td>0.8957</td>\n",
       "      <td>0.145</td>\n",
       "      <td>0.018</td>\n",
       "      <td>0.261111</td>\n",
       "    </tr>\n",
       "    <tr>\n",
       "      <th>2</th>\n",
       "      <td>pos</td>\n",
       "      <td>Amazing!: This soundtrack is my favorite music...</td>\n",
       "      <td>0.9858</td>\n",
       "      <td>0.268</td>\n",
       "      <td>0.040</td>\n",
       "      <td>0.274691</td>\n",
       "    </tr>\n",
       "    <tr>\n",
       "      <th>3</th>\n",
       "      <td>pos</td>\n",
       "      <td>Excellent Soundtrack: I truly like this soundt...</td>\n",
       "      <td>0.9814</td>\n",
       "      <td>0.295</td>\n",
       "      <td>0.090</td>\n",
       "      <td>0.272727</td>\n",
       "    </tr>\n",
       "    <tr>\n",
       "      <th>4</th>\n",
       "      <td>pos</td>\n",
       "      <td>Remember, Pull Your Jaw Off The Floor After He...</td>\n",
       "      <td>0.9781</td>\n",
       "      <td>0.254</td>\n",
       "      <td>0.000</td>\n",
       "      <td>0.324802</td>\n",
       "    </tr>\n",
       "  </tbody>\n",
       "</table>\n",
       "</div>"
      ],
      "text/plain": [
       "  label                                             review  Comp-Score  \\\n",
       "0   pos  Stuning even for the non-gamer: This sound tra...      0.9454   \n",
       "1   pos  The best soundtrack ever to anything.: I'm rea...      0.8957   \n",
       "2   pos  Amazing!: This soundtrack is my favorite music...      0.9858   \n",
       "3   pos  Excellent Soundtrack: I truly like this soundt...      0.9814   \n",
       "4   pos  Remember, Pull Your Jaw Off The Floor After He...      0.9781   \n",
       "\n",
       "   Pos-Score  Neg-Score  Sentiment_score  \n",
       "0      0.243      0.088        -0.021875  \n",
       "1      0.145      0.018         0.261111  \n",
       "2      0.268      0.040         0.274691  \n",
       "3      0.295      0.090         0.272727  \n",
       "4      0.254      0.000         0.324802  "
      ]
     },
     "execution_count": 31,
     "metadata": {},
     "output_type": "execute_result"
    }
   ],
   "source": [
    "amazon.head()"
   ]
  },
  {
   "cell_type": "code",
   "execution_count": 32,
   "id": "8b1fd78e",
   "metadata": {},
   "outputs": [
    {
     "data": {
      "text/plain": [
       "0.14501923626191635"
      ]
     },
     "execution_count": 32,
     "metadata": {},
     "output_type": "execute_result"
    }
   ],
   "source": [
    "amazon.Sentiment_score.mean()"
   ]
  },
  {
   "cell_type": "code",
   "execution_count": null,
   "id": "8c9b7fb0",
   "metadata": {},
   "outputs": [],
   "source": []
  },
  {
   "cell_type": "code",
   "execution_count": null,
   "id": "e513cfdf",
   "metadata": {},
   "outputs": [],
   "source": []
  },
  {
   "cell_type": "code",
   "execution_count": 39,
   "id": "89dc8b6d",
   "metadata": {},
   "outputs": [
    {
     "name": "stdout",
     "output_type": "stream",
     "text": [
      "Collecting spacy\n",
      "  Downloading spacy-3.1.3-cp38-cp38-win_amd64.whl (12.0 MB)\n",
      "Requirement already satisfied: jinja2 in c:\\programdata\\anaconda3\\lib\\site-packages (from spacy) (2.11.3)\n",
      "Requirement already satisfied: setuptools in c:\\programdata\\anaconda3\\lib\\site-packages (from spacy) (58.0.4)\n",
      "Collecting srsly<3.0.0,>=2.4.1\n",
      "  Downloading srsly-2.4.1-cp38-cp38-win_amd64.whl (451 kB)\n",
      "Collecting preshed<3.1.0,>=3.0.2\n",
      "  Downloading preshed-3.0.5-cp38-cp38-win_amd64.whl (112 kB)\n",
      "Collecting pydantic!=1.8,!=1.8.1,<1.9.0,>=1.7.4\n",
      "  Downloading pydantic-1.8.2-cp38-cp38-win_amd64.whl (2.0 MB)\n",
      "Collecting murmurhash<1.1.0,>=0.28.0\n",
      "  Downloading murmurhash-1.0.5-cp38-cp38-win_amd64.whl (21 kB)\n",
      "Collecting catalogue<2.1.0,>=2.0.6\n",
      "  Downloading catalogue-2.0.6-py3-none-any.whl (17 kB)\n",
      "Collecting typer<0.5.0,>=0.3.0\n",
      "  Downloading typer-0.4.0-py3-none-any.whl (27 kB)\n",
      "Collecting cymem<2.1.0,>=2.0.2\n",
      "  Downloading cymem-2.0.5-cp38-cp38-win_amd64.whl (36 kB)\n",
      "Collecting spacy-legacy<3.1.0,>=3.0.8\n",
      "  Downloading spacy_legacy-3.0.8-py2.py3-none-any.whl (14 kB)\n",
      "Collecting blis<0.8.0,>=0.4.0\n",
      "  Downloading blis-0.7.4-cp38-cp38-win_amd64.whl (6.5 MB)\n",
      "Requirement already satisfied: numpy>=1.15.0 in c:\\users\\sasai\\appdata\\roaming\\python\\python38\\site-packages (from spacy) (1.19.5)\n",
      "Requirement already satisfied: packaging>=20.0 in c:\\programdata\\anaconda3\\lib\\site-packages (from spacy) (21.0)\n",
      "Collecting wasabi<1.1.0,>=0.8.1\n",
      "  Downloading wasabi-0.8.2-py3-none-any.whl (23 kB)\n",
      "Collecting pathy>=0.3.5\n",
      "  Downloading pathy-0.6.0-py3-none-any.whl (42 kB)\n",
      "Requirement already satisfied: tqdm<5.0.0,>=4.38.0 in c:\\programdata\\anaconda3\\lib\\site-packages (from spacy) (4.62.1)\n",
      "Requirement already satisfied: requests<3.0.0,>=2.13.0 in c:\\programdata\\anaconda3\\lib\\site-packages (from spacy) (2.26.0)\n",
      "Collecting thinc<8.1.0,>=8.0.9\n",
      "  Downloading thinc-8.0.10-cp38-cp38-win_amd64.whl (1.0 MB)\n",
      "Requirement already satisfied: pyparsing>=2.0.2 in c:\\programdata\\anaconda3\\lib\\site-packages (from packaging>=20.0->spacy) (2.4.7)\n",
      "Collecting smart-open<6.0.0,>=5.0.0\n",
      "  Downloading smart_open-5.2.1-py3-none-any.whl (58 kB)\n",
      "Requirement already satisfied: typing-extensions>=3.7.4.3 in c:\\users\\sasai\\appdata\\roaming\\python\\python38\\site-packages (from pydantic!=1.8,!=1.8.1,<1.9.0,>=1.7.4->spacy) (3.7.4.3)\n",
      "Requirement already satisfied: charset-normalizer~=2.0.0 in c:\\programdata\\anaconda3\\lib\\site-packages (from requests<3.0.0,>=2.13.0->spacy) (2.0.4)\n",
      "Requirement already satisfied: certifi>=2017.4.17 in c:\\programdata\\anaconda3\\lib\\site-packages (from requests<3.0.0,>=2.13.0->spacy) (2021.5.30)\n",
      "Requirement already satisfied: idna<4,>=2.5 in c:\\programdata\\anaconda3\\lib\\site-packages (from requests<3.0.0,>=2.13.0->spacy) (3.2)\n",
      "Requirement already satisfied: urllib3<1.27,>=1.21.1 in c:\\programdata\\anaconda3\\lib\\site-packages (from requests<3.0.0,>=2.13.0->spacy) (1.26.6)\n",
      "Requirement already satisfied: colorama in c:\\programdata\\anaconda3\\lib\\site-packages (from tqdm<5.0.0,>=4.38.0->spacy) (0.4.4)\n",
      "Requirement already satisfied: click<9.0.0,>=7.1.1 in c:\\users\\sasai\\appdata\\roaming\\python\\python38\\site-packages (from typer<0.5.0,>=0.3.0->spacy) (7.1.2)\n",
      "Requirement already satisfied: MarkupSafe>=0.23 in c:\\programdata\\anaconda3\\lib\\site-packages (from jinja2->spacy) (1.1.1)\n",
      "Installing collected packages: murmurhash, cymem, catalogue, wasabi, typer, srsly, smart-open, pydantic, preshed, blis, thinc, spacy-legacy, pathy, spacy\n",
      "Successfully installed blis-0.7.4 catalogue-2.0.6 cymem-2.0.5 murmurhash-1.0.5 pathy-0.6.0 preshed-3.0.5 pydantic-1.8.2 smart-open-5.2.1 spacy-3.1.3 spacy-legacy-3.0.8 srsly-2.4.1 thinc-8.0.10 typer-0.4.0 wasabi-0.8.2\n"
     ]
    }
   ],
   "source": [
    "!pip install spacy"
   ]
  },
  {
   "cell_type": "code",
   "execution_count": 50,
   "id": "11505788",
   "metadata": {},
   "outputs": [],
   "source": [
    "import spacy "
   ]
  },
  {
   "cell_type": "markdown",
   "id": "4488176f",
   "metadata": {},
   "source": [
    "#### Run in Command prompt \n",
    "* python -m spacy download en_core_web_sm"
   ]
  },
  {
   "cell_type": "code",
   "execution_count": 53,
   "id": "f26574e5",
   "metadata": {},
   "outputs": [],
   "source": [
    "import en_core_web_sm\n",
    "lang=spacy.load(\"en_core_web_sm\") # In build dictionary"
   ]
  },
  {
   "cell_type": "code",
   "execution_count": 86,
   "id": "52d9513b",
   "metadata": {},
   "outputs": [],
   "source": [
    "doc = lang(\"Mumbai is a finacial capital of India. 1st quarter of the current year saw GDP of india decline by 24 %. This is 2021\")\n"
   ]
  },
  {
   "cell_type": "code",
   "execution_count": 87,
   "id": "5bb01cfb",
   "metadata": {},
   "outputs": [
    {
     "data": {
      "text/plain": [
       "spacy.tokens.doc.Doc"
      ]
     },
     "execution_count": 87,
     "metadata": {},
     "output_type": "execute_result"
    }
   ],
   "source": [
    "type(doc)"
   ]
  },
  {
   "cell_type": "code",
   "execution_count": 88,
   "id": "0b72f265",
   "metadata": {},
   "outputs": [
    {
     "name": "stdout",
     "output_type": "stream",
     "text": [
      "Mumbai\n",
      "is\n",
      "a\n",
      "finacial\n",
      "capital\n",
      "of\n",
      "India\n",
      ".\n",
      "1st\n",
      "quarter\n",
      "of\n",
      "the\n",
      "current\n",
      "year\n",
      "saw\n",
      "GDP\n",
      "of\n",
      "india\n",
      "decline\n",
      "by\n",
      "24\n",
      "%\n",
      ".\n",
      "This\n",
      "is\n",
      "2021\n"
     ]
    }
   ],
   "source": [
    "for i in doc:\n",
    "    print(i.text)"
   ]
  },
  {
   "cell_type": "code",
   "execution_count": 89,
   "id": "adc9c54a",
   "metadata": {},
   "outputs": [
    {
     "name": "stdout",
     "output_type": "stream",
     "text": [
      "Mumbai PROPN\n",
      "is AUX\n",
      "a DET\n",
      "finacial ADJ\n",
      "capital NOUN\n",
      "of ADP\n",
      "India PROPN\n",
      ". PUNCT\n",
      "1st ADJ\n",
      "quarter NOUN\n",
      "of ADP\n",
      "the DET\n",
      "current ADJ\n",
      "year NOUN\n",
      "saw VERB\n",
      "GDP PROPN\n",
      "of ADP\n",
      "india PROPN\n",
      "decline NOUN\n",
      "by ADP\n",
      "24 NUM\n",
      "% NOUN\n",
      ". PUNCT\n",
      "This DET\n",
      "is AUX\n",
      "2021 NUM\n"
     ]
    }
   ],
   "source": [
    "for i in doc:\n",
    "    print(i.text,i.pos_)"
   ]
  },
  {
   "cell_type": "code",
   "execution_count": 90,
   "id": "0b4539d0",
   "metadata": {},
   "outputs": [
    {
     "data": {
      "text/plain": [
       "'PROPN'"
      ]
     },
     "execution_count": 90,
     "metadata": {},
     "output_type": "execute_result"
    }
   ],
   "source": [
    "doc[0].pos_"
   ]
  },
  {
   "cell_type": "code",
   "execution_count": 91,
   "id": "dfb88d19",
   "metadata": {},
   "outputs": [
    {
     "data": {
      "text/plain": [
       "capital of India"
      ]
     },
     "execution_count": 91,
     "metadata": {},
     "output_type": "execute_result"
    }
   ],
   "source": [
    "doc1=doc[4:7]\n",
    "doc1"
   ]
  },
  {
   "cell_type": "code",
   "execution_count": 92,
   "id": "7a9dc245",
   "metadata": {},
   "outputs": [
    {
     "name": "stdout",
     "output_type": "stream",
     "text": [
      "Mumbai is a finacial capital of India.\n",
      "1st quarter of the current year saw GDP of india decline by 24 %.\n",
      "This is 2021\n"
     ]
    }
   ],
   "source": [
    "for sentences in doc.sents:\n",
    "    print(sentences)"
   ]
  },
  {
   "cell_type": "code",
   "execution_count": 93,
   "id": "6f761dfd",
   "metadata": {},
   "outputs": [],
   "source": [
    "## Tellme the count of sentences\n",
    "l1=[]\n",
    "for sentences in doc.sents:\n",
    "    l1.append(sentences)"
   ]
  },
  {
   "cell_type": "code",
   "execution_count": 94,
   "id": "bdc3aba8",
   "metadata": {},
   "outputs": [
    {
     "data": {
      "text/plain": [
       "3"
      ]
     },
     "execution_count": 94,
     "metadata": {},
     "output_type": "execute_result"
    }
   ],
   "source": [
    "len(l1)"
   ]
  },
  {
   "cell_type": "code",
   "execution_count": 95,
   "id": "16d8cdeb",
   "metadata": {},
   "outputs": [
    {
     "name": "stdout",
     "output_type": "stream",
     "text": [
      "my\n",
      "website\n",
      "is\n",
      "www.abc.com\n",
      "and\n",
      "my\n",
      "email\n",
      "i\n",
      "d\n",
      "is\n",
      "xyz@gmail.com\n",
      ".\n",
      "This\n",
      "is\n",
      "just\n",
      "an\n",
      "ex\n",
      ".\n"
     ]
    }
   ],
   "source": [
    "doc3 =lang(\"my website is www.abc.com and my email id is xyz@gmail.com . This is just an ex .\")\n",
    "\n",
    "\n",
    "for token in doc3:\n",
    "    print(token)"
   ]
  },
  {
   "cell_type": "code",
   "execution_count": 97,
   "id": "df133812",
   "metadata": {},
   "outputs": [
    {
     "name": "stdout",
     "output_type": "stream",
     "text": [
      "fares\n",
      "are\n",
      "charged\n",
      "at\n",
      " \n",
      "20\n",
      "km\n",
      ".Total\n",
      "cost\n",
      "is\n",
      "$\n",
      "20\n",
      ".\n",
      "I\n",
      "live\n",
      "in\n",
      "Pune\n"
     ]
    }
   ],
   "source": [
    "doc4 = lang(\"fares are charged at  20km .Total cost is $20. I live in Pune \")\n",
    "for token in doc4:\n",
    "    print(token)\n",
    "    \n",
    "# Able to seprate number and units "
   ]
  },
  {
   "cell_type": "code",
   "execution_count": 99,
   "id": "7e5240ea",
   "metadata": {},
   "outputs": [
    {
     "name": "stdout",
     "output_type": "stream",
     "text": [
      "Area\n",
      "of\n",
      "the\n",
      "flat\n",
      "is\n",
      "1000\n",
      "m\n"
     ]
    }
   ],
   "source": [
    "doc5 = lang(\"Area of the flat is 1000m\")\n",
    "for token in doc5:\n",
    "    print(token)"
   ]
  },
  {
   "cell_type": "code",
   "execution_count": 100,
   "id": "e9fe6b00",
   "metadata": {},
   "outputs": [
    {
     "name": "stdout",
     "output_type": "stream",
     "text": [
      "fares|are|charged|at| |20|km|.Total|cost|is|$|20|.|I|live|in|Pune|"
     ]
    }
   ],
   "source": [
    "doc6 = lang(\"fares are charged at  20km .Total cost is $20. I live in Pune \")\n",
    "for token in doc6:\n",
    "    print(token.text,end=\"|\")"
   ]
  },
  {
   "cell_type": "code",
   "execution_count": 109,
   "id": "c143d5b7",
   "metadata": {},
   "outputs": [
    {
     "name": "stdout",
     "output_type": "stream",
     "text": [
      "Pune\n",
      "India\n"
     ]
    }
   ],
   "source": [
    "doc7 = lang(\"saiifi Lives in Pune which is part of maharasthra and which is part of India\")\n",
    "for token in doc7.ents:  # ents is like name entity\n",
    "    print(token)"
   ]
  },
  {
   "cell_type": "code",
   "execution_count": 110,
   "id": "fcf107a7",
   "metadata": {},
   "outputs": [
    {
     "name": "stdout",
     "output_type": "stream",
     "text": [
      "Pune\n",
      "GPE\n",
      "\n",
      "\n",
      "India\n",
      "GPE\n",
      "\n",
      "\n"
     ]
    }
   ],
   "source": [
    "for token in doc7.ents: \n",
    "    print(token)\n",
    "    print(token.label_)\n",
    "    print('\\n')"
   ]
  },
  {
   "cell_type": "code",
   "execution_count": 118,
   "id": "06a1c689",
   "metadata": {},
   "outputs": [
    {
     "name": "stdout",
     "output_type": "stream",
     "text": [
      "Washington\n",
      "GPE\n",
      "Countries, cities, states\n",
      "\n",
      "\n",
      "D.C.\n",
      "GPE\n",
      "Countries, cities, states\n",
      "\n",
      "\n",
      "only $2 Trillion\n",
      "MONEY\n",
      "Monetary values, including unit\n",
      "\n",
      "\n"
     ]
    }
   ],
   "source": [
    "doc8= lang(\"GDP of India is only $2 Trillion USD\")\n",
    "for token in doc8.ents: \n",
    "    print(token)\n",
    "    print(token.label_)\n",
    "    print(str(spacy.explain(token.label_))) # just if you want the explanation of each token\n",
    "    print('\\n')"
   ]
  },
  {
   "cell_type": "code",
   "execution_count": 117,
   "id": "66e0ba2e",
   "metadata": {},
   "outputs": [
    {
     "name": "stdout",
     "output_type": "stream",
     "text": [
      "Apple\n",
      "ORG\n",
      "Companies, agencies, institutions, etc.\n",
      "\n",
      "\n",
      "Mango\n",
      "LOC\n",
      "Non-GPE locations, mountain ranges, bodies of water\n",
      "\n",
      "\n"
     ]
    }
   ],
   "source": [
    "doc9= lang(\"Apple has Launched the latest mobile phone.Mango is very common fruit\")\n",
    "for token in doc9.ents: \n",
    "    print(token)\n",
    "    print(token.label_)\n",
    "    print(str(spacy.explain(token.label_))) # just if you want the explanation of each token\n",
    "    print('\\n')"
   ]
  },
  {
   "cell_type": "markdown",
   "id": "289edcc3",
   "metadata": {},
   "source": [
    "### Visualize the Token"
   ]
  },
  {
   "cell_type": "code",
   "execution_count": 120,
   "id": "07fc5ee3",
   "metadata": {},
   "outputs": [],
   "source": [
    "from spacy import displacy"
   ]
  },
  {
   "cell_type": "code",
   "execution_count": 122,
   "id": "0b1111e3",
   "metadata": {},
   "outputs": [
    {
     "data": {
      "text/html": [
       "<span class=\"tex2jax_ignore\"><div class=\"entities\" style=\"line-height: 2.5; direction: ltr\">\n",
       "<mark class=\"entity\" style=\"background: #bfe1d9; padding: 0.45em 0.6em; margin: 0 0.25em; line-height: 1; border-radius: 0.35em;\">\n",
       "    last year\n",
       "    <span style=\"font-size: 0.8em; font-weight: bold; line-height: 1; border-radius: 0.35em; vertical-align: middle; margin-left: 0.5rem\">DATE</span>\n",
       "</mark>\n",
       " \n",
       "<mark class=\"entity\" style=\"background: #7aecec; padding: 0.45em 0.6em; margin: 0 0.25em; line-height: 1; border-radius: 0.35em;\">\n",
       "    MGHEctor\n",
       "    <span style=\"font-size: 0.8em; font-weight: bold; line-height: 1; border-radius: 0.35em; vertical-align: middle; margin-left: 0.5rem\">ORG</span>\n",
       "</mark>\n",
       " sold \n",
       "<mark class=\"entity\" style=\"background: #e4e7d2; padding: 0.45em 0.6em; margin: 0 0.25em; line-height: 1; border-radius: 0.35em;\">\n",
       "    15000\n",
       "    <span style=\"font-size: 0.8em; font-weight: bold; line-height: 1; border-radius: 0.35em; vertical-align: middle; margin-left: 0.5rem\">CARDINAL</span>\n",
       "</mark>\n",
       " cars in \n",
       "<mark class=\"entity\" style=\"background: #feca74; padding: 0.45em 0.6em; margin: 0 0.25em; line-height: 1; border-radius: 0.35em;\">\n",
       "    India\n",
       "    <span style=\"font-size: 0.8em; font-weight: bold; line-height: 1; border-radius: 0.35em; vertical-align: middle; margin-left: 0.5rem\">GPE</span>\n",
       "</mark>\n",
       "</div></span>"
      ],
      "text/plain": [
       "<IPython.core.display.HTML object>"
      ]
     },
     "metadata": {},
     "output_type": "display_data"
    }
   ],
   "source": [
    "doc10=lang(\"last year MGHEctor sold 15000 cars in India\")\n",
    "displacy.render(doc10,style=\"ent\")"
   ]
  },
  {
   "cell_type": "code",
   "execution_count": 123,
   "id": "d44afb1c",
   "metadata": {},
   "outputs": [
    {
     "data": {
      "text/html": [
       "<span class=\"tex2jax_ignore\"><div class=\"entities\" style=\"line-height: 2.5; direction: ltr\">\n",
       "<mark class=\"entity\" style=\"background: #7aecec; padding: 0.45em 0.6em; margin: 0 0.25em; line-height: 1; border-radius: 0.35em;\">\n",
       "    Apple\n",
       "    <span style=\"font-size: 0.8em; font-weight: bold; line-height: 1; border-radius: 0.35em; vertical-align: middle; margin-left: 0.5rem\">ORG</span>\n",
       "</mark>\n",
       " , \n",
       "<mark class=\"entity\" style=\"background: #7aecec; padding: 0.45em 0.6em; margin: 0 0.25em; line-height: 1; border-radius: 0.35em;\">\n",
       "    Samsung\n",
       "    <span style=\"font-size: 0.8em; font-weight: bold; line-height: 1; border-radius: 0.35em; vertical-align: middle; margin-left: 0.5rem\">ORG</span>\n",
       "</mark>\n",
       " and \n",
       "<mark class=\"entity\" style=\"background: #7aecec; padding: 0.45em 0.6em; margin: 0 0.25em; line-height: 1; border-radius: 0.35em;\">\n",
       "    Google\n",
       "    <span style=\"font-size: 0.8em; font-weight: bold; line-height: 1; border-radius: 0.35em; vertical-align: middle; margin-left: 0.5rem\">ORG</span>\n",
       "</mark>\n",
       " are competeriors in smart phone industry in \n",
       "<mark class=\"entity\" style=\"background: #feca74; padding: 0.45em 0.6em; margin: 0 0.25em; line-height: 1; border-radius: 0.35em;\">\n",
       "    India\n",
       "    <span style=\"font-size: 0.8em; font-weight: bold; line-height: 1; border-radius: 0.35em; vertical-align: middle; margin-left: 0.5rem\">GPE</span>\n",
       "</mark>\n",
       "</div></span>"
      ],
      "text/plain": [
       "<IPython.core.display.HTML object>"
      ]
     },
     "metadata": {},
     "output_type": "display_data"
    }
   ],
   "source": [
    "doc10=lang(\"Apple , Samsung and Google are competeriors in smart phone industry in India\")\n",
    "displacy.render(doc10,style=\"ent\")"
   ]
  },
  {
   "cell_type": "markdown",
   "id": "866bb100",
   "metadata": {},
   "source": [
    "### Stemming"
   ]
  },
  {
   "cell_type": "code",
   "execution_count": 124,
   "id": "42e93a7f",
   "metadata": {},
   "outputs": [],
   "source": [
    "import nltk"
   ]
  },
  {
   "cell_type": "code",
   "execution_count": 125,
   "id": "0174b5c5",
   "metadata": {},
   "outputs": [],
   "source": [
    "from nltk.stem.snowball import SnowballStemmer"
   ]
  },
  {
   "cell_type": "code",
   "execution_count": 129,
   "id": "15e4ba79",
   "metadata": {},
   "outputs": [],
   "source": [
    "stemmer= SnowballStemmer(language=\"english\")"
   ]
  },
  {
   "cell_type": "code",
   "execution_count": 130,
   "id": "bc06c36d",
   "metadata": {},
   "outputs": [],
   "source": [
    "word_list=['swim','swimmer','swimming','matches','mens','laughing','cars','loving','human','indians']"
   ]
  },
  {
   "cell_type": "code",
   "execution_count": 132,
   "id": "ba46bc5d",
   "metadata": {},
   "outputs": [
    {
     "name": "stdout",
     "output_type": "stream",
     "text": [
      "swim     it's stemming is  ----> \t swim\n",
      "swimmer     it's stemming is  ----> \t swimmer\n",
      "swimming     it's stemming is  ----> \t swim\n",
      "matches     it's stemming is  ----> \t match\n",
      "mens     it's stemming is  ----> \t men\n",
      "laughing     it's stemming is  ----> \t laugh\n",
      "cars     it's stemming is  ----> \t car\n",
      "loving     it's stemming is  ----> \t love\n",
      "human     it's stemming is  ----> \t human\n",
      "indians     it's stemming is  ----> \t indian\n"
     ]
    }
   ],
   "source": [
    "for word in word_list:\n",
    "    print(word,  \"    it's stemming is  ---->\", '\\t',stemmer.stem(word))\n"
   ]
  },
  {
   "cell_type": "code",
   "execution_count": 135,
   "id": "54029de7",
   "metadata": {},
   "outputs": [
    {
     "name": "stdout",
     "output_type": "stream",
     "text": [
      "{\"'re\", 'wherever', 'us', 'seems', 'enough', 'using', 'well', 'none', 'though', 'with', '‘d', 'what', '‘m', 'either', 'over', 'sometime', 'down', 'others', 'meanwhile', 'now', 'around', 'there', 'together', 'done', 'fifty', 'very', 'least', 'was', 'various', '’ll', 'no', 'since', 'your', 'his', 'must', 'against', 'hundred', 'did', 'whence', 'two', 'anyhow', 'anyone', 'name', 'top', 'above', 'namely', 'nor', 'towards', 'beside', 'here', 'thus', 'itself', 'cannot', 'move', 'out', 'whereupon', 'latterly', 'moreover', 'at', 'who', 'then', 'through', 'upon', \"n't\", 'twelve', 'herself', 'off', 'am', 'seemed', '‘re', 'nobody', 'further', 'although', '’m', 'toward', 'would', 'serious', 'do', 'under', 'their', 'whereafter', 'nowhere', 'whether', 'every', 'which', 'eleven', 'each', 'get', 'please', 'could', 'whereby', '’d', 'becomes', \"'ve\", 'is', 'often', 'alone', 'where', 'this', '‘s', 'became', 'last', \"'s\", 'make', 'both', 'or', 're', 'perhaps', 'else', 'ourselves', 'really', 'yours', 'across', 'will', 'due', 'while', 'of', 'my', 'first', 'empty', 'hereby', 'again', 'such', 'everyone', 'all', 'too', 'another', 'any', 'doing', 'fifteen', 'hereafter', 'whole', 'if', 'her', 'being', '‘ve', 'been', 'should', 'these', 'still', 'n’t', 'they', 'are', 'less', 'noone', 'latter', 'via', 'elsewhere', 'might', 'those', 'she', 'wherein', 'somehow', 'thru', 'otherwise', 'five', 'few', 'bottom', 'besides', 'himself', 'never', 'yourselves', 'it', 'go', 'about', 'hereupon', 'why', 'thereby', 'along', 'becoming', 'front', 'put', 'than', 'i', 'so', 'nevertheless', 'become', 'used', 'other', 'him', 'however', 'a', 'seem', 'just', 'many', 'more', 'next', 'themselves', 'own', 'after', 'when', 'myself', 'but', 'sixty', 'throughout', 'ours', 'whither', 'our', 'some', 'were', 'until', 'whatever', 'up', 'thereupon', 'anyway', 'mine', 'be', 'by', 'take', 'thereafter', '’s', 'you', 'ever', 'neither', 'between', 'amount', \"'m\", 'four', 'its', 'say', 'whoever', 'how', 'part', 'afterwards', 'them', 'not', 'amongst', 'someone', 'beyond', 'show', \"'d\", 'he', 'several', 'without', 'give', 'because', 'everything', 'an', 'that', 'hers', 'sometimes', 'ten', 'had', 'per', 'everywhere', 'whom', 'once', 'even', 'keep', 'we', 'one', 'nothing', 'hence', 'third', 'formerly', 'whereas', 'twenty', 'in', 'may', 'eight', 'rather', 'have', 'indeed', 'unless', 'therein', 'whenever', 'therefore', 'anywhere', 'side', 'anything', 'same', 'most', 'whose', 'onto', 'except', 'does', 'full', 'yourself', 'also', 'to', 'thence', 'behind', 'on', 'from', 'among', 'herein', \"'ll\", 'call', 'always', 'before', '‘ll', 'the', 'former', 'within', 'almost', 'beforehand', 'can', 'somewhere', 'seeming', 'see', 'yet', 'made', 'back', 'me', 'and', 'for', 'n‘t', 'three', 'only', 'has', 'nine', '’ve', 'mostly', 'as', 'during', 'quite', 'into', 'something', 'six', 'already', '’re', 'forty', 'regarding', 'below', 'ca', 'much'}\n"
     ]
    }
   ],
   "source": [
    "print(lang.Defaults.stop_words)"
   ]
  },
  {
   "cell_type": "code",
   "execution_count": 134,
   "id": "30b3e1ec",
   "metadata": {},
   "outputs": [
    {
     "data": {
      "text/plain": [
       "326"
      ]
     },
     "execution_count": 134,
     "metadata": {},
     "output_type": "execute_result"
    }
   ],
   "source": [
    "len(lang.Defaults.stop_words)"
   ]
  },
  {
   "cell_type": "code",
   "execution_count": 137,
   "id": "37bb9b3d",
   "metadata": {},
   "outputs": [
    {
     "name": "stdout",
     "output_type": "stream",
     "text": [
      "True\n"
     ]
    }
   ],
   "source": [
    "print(lang.vocab['the'].is_stop) # To check if it is a part of stop words "
   ]
  },
  {
   "cell_type": "code",
   "execution_count": null,
   "id": "01b27f10",
   "metadata": {},
   "outputs": [],
   "source": []
  }
 ],
 "metadata": {
  "kernelspec": {
   "display_name": "Python 3 (ipykernel)",
   "language": "python",
   "name": "python3"
  },
  "language_info": {
   "codemirror_mode": {
    "name": "ipython",
    "version": 3
   },
   "file_extension": ".py",
   "mimetype": "text/x-python",
   "name": "python",
   "nbconvert_exporter": "python",
   "pygments_lexer": "ipython3",
   "version": "3.8.8"
  }
 },
 "nbformat": 4,
 "nbformat_minor": 5
}
